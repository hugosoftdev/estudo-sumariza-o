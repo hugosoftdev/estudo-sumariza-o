{
 "cells": [
  {
   "cell_type": "markdown",
   "metadata": {},
   "source": [
    "# Projeto: sumarizador de documentos e extração de palavras-chave\n",
    "\n",
    "Projeto em duplas.\n",
    "\n",
    "Neste projeto vamos usar o que aprendemos sobre vetorização de documentos e similaridade para construir sumários de documentos. Os sumários serão construídos à partir das sentenças existentes no texto, como se estivéssemos usando uma caneta marcadora de texto para ressaltar as sentenças mais importantes. Este tipo de sumarização é conhecido como sumarização extrativa. \n",
    "\n",
    "## Sumarização\n",
    "\n",
    "Você deve implementar duas técnicas de sumarização de documentos:\n",
    "\n",
    "1. Clustering\n",
    "\n",
    "Nesta técnica você deverá:\n",
    "\n",
    "- Vetorizar as sentenças do documento. Teste as várias opções de vetorização que aprendemos (TF-IDF, Doc2Vec, LDA, etc).\n",
    "- Agrupar as sentenças do documento em clusters usando K-Means.\n",
    "- Escolher as sentenças mais próximas do centro do cluster, para cada cluster.\n",
    "- Exibir estas sentenças na ordem em que se apresentaram no texto original.\n",
    "\n",
    "2. TextRank\n",
    "\n",
    "A ideia do TextRank é conectar todas as sentenças entre si através da sua similaridade (e.g. $1 - \\text{distância cosseno}$) em uma *matriz de similaridade*. Nesta matriz a entrada $(i,j)$ representa a similaridade entre as sentenças $i$ e $j$. Sentenças mais informativas tendem a estar conectadas com várias outras sentenças do texto, e servirão como representantes dos assuntos que estão sendo discutidos nestas outras sentenças. Para determinar quais são as sentenças de maior conectividade vamos usar o algoritmo PageRank (https://en.wikipedia.org/wiki/PageRank), que já está implementado na biblioteca `networkx` em Python.\n",
    "\n",
    "Veja o artigo https://www.analyticsvidhya.com/blog/2018/11/introduction-text-summarization-textrank-python/ para entender mais sobre essa técnica. Para conhecer os detalhes finos do algoritmo, veja o artigo original em https://web.eecs.umich.edu/~mihalcea/papers/mihalcea.emnlp04.pdf\n",
    "\n",
    "Implemente o TextRank e use-o para determinar as sentenças mais importantes do documento. Apresente estas sentenças na ordem em que aparecem no documento original.\n",
    "\n",
    "## Extração de palavras-chave\n",
    "\n",
    "As mesmas técnicas de sumarização de documentos servem para extrair palavras-chave de documentos: basta considerar a similaridade entre embeddings de palavras ao invés de vetores de sentença!\n",
    "\n",
    "Implemente também a extração de palavras-chave de documentos.\n",
    "\n",
    "## Testando as implementações\n",
    "\n",
    "Para testar suas implementações de sumarização você pode usar o dataset \"CNN/Daily Mail\" (https://github.com/abisee/cnn-dailymail). Cuidado: é um dataset bem grande, para testar seus desenvolvimentos é recomendável não rodar no corpus inteiro toda vez.\n",
    "\n",
    "## Entregáveis\n",
    "\n",
    "- O repositório com o código\n",
    "- Um relatório completo: \n",
    "    - Introdução\n",
    "        - Explicar o que é sumarização de texto, diferentes tipos, e fazer uma revisão bibliográfica pequena\n",
    "        - Explicar os dois algoritmos\n",
    "    - Métodos\n",
    "        - Explicar o experimento: qual dataset, como vai medir desempenho, etc.\n",
    "    - Resultados\n",
    "        - Métricas automatizadas: ROUGE (https://pypi.org/project/rouge/)\n",
    "        - Comparação qualitativa\n",
    "    - Conclusão\n",
    "    \n",
    "## Rubrica\n",
    "\n",
    "| Conceito | Definição |\n",
    "|:--------:|:----------|\n",
    "|    I     | Não entregou ou entregou nonsense |\n",
    "|    D     | O relatório está incompleto ou com falhas, o código tem erros mas está aproximadamente correto, falta mais de uma implementação |\n",
    "|    C     | O relatório está completo mas com escrita pobre, o código está meio bagunçado mas correto, falta uma implementação apenas |\n",
    "|    B     | Bom relatório, à exceção do ROUGE. Boa implementação. |\n",
    "|    A     | Implementou métrica ROUGE de desempenho. Aprimorou os métodos por conta própria, melhorando o desempenho. |"
   ]
  },
  {
   "cell_type": "code",
   "execution_count": null,
   "metadata": {},
   "outputs": [],
   "source": []
  }
 ],
 "metadata": {
  "kernelspec": {
   "display_name": "Python 3",
   "language": "python",
   "name": "python3"
  },
  "language_info": {
   "codemirror_mode": {
    "name": "ipython",
    "version": 3
   },
   "file_extension": ".py",
   "mimetype": "text/x-python",
   "name": "python",
   "nbconvert_exporter": "python",
   "pygments_lexer": "ipython3",
   "version": "3.7.4"
  }
 },
 "nbformat": 4,
 "nbformat_minor": 4
}
