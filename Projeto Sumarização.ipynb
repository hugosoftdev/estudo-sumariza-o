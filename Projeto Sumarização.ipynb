{
 "cells": [
  {
   "cell_type": "markdown",
   "metadata": {},
   "source": [
    "## Imports"
   ]
  },
  {
   "cell_type": "code",
   "execution_count": 1,
   "metadata": {},
   "outputs": [],
   "source": [
    "import collections\n",
    "import numpy as np\n",
    "from nltk import word_tokenize\n",
    "from nltk.corpus import stopwords\n",
    "from nltk.stem import PorterStemmer\n",
    "from sklearn.cluster import KMeans\n",
    "from sklearn.metrics import pairwise_distances_argmin_min\n",
    "from sklearn.metrics.pairwise import cosine_similarity\n",
    "from sklearn.feature_extraction.text import TfidfVectorizer\n",
    "from pprint import pprint\n",
    "from nltk.tokenize import sent_tokenize\n",
    "import networkx as nx\n",
    "import gensim \n",
    "from gensim.models import Word2Vec "
   ]
  },
  {
   "cell_type": "markdown",
   "metadata": {},
   "source": [
    "## Funções"
   ]
  },
  {
   "cell_type": "code",
   "execution_count": 2,
   "metadata": {},
   "outputs": [],
   "source": [
    "def word_tokenizer(text):\n",
    "        tokens = word_tokenize(text)\n",
    "        stemmer = PorterStemmer()\n",
    "        tokens = [stemmer.stem(t) for t in tokens if t not in stopwords.words('english')]\n",
    "        return tokens\n",
    "\n",
    "\n",
    "def get_closest_sentences_after_clustering(sentences, nb_of_clusters=5):\n",
    "        tfidf_vectorizer = TfidfVectorizer(tokenizer=word_tokenizer,\n",
    "                                        stop_words=stopwords.words('english'),\n",
    "                                        max_df=0.9,\n",
    "                                        min_df=0.05,\n",
    "                                        lowercase=True)\n",
    "        tfidf_matrix = tfidf_vectorizer.fit_transform(sentences)\n",
    "        kmeans = KMeans(n_clusters=nb_of_clusters)\n",
    "        kmeans.fit(tfidf_matrix)\n",
    "        closest, _ = pairwise_distances_argmin_min(kmeans.cluster_centers_, tfidf_matrix)\n",
    "        return closest"
   ]
  },
  {
   "cell_type": "code",
   "execution_count": 3,
   "metadata": {},
   "outputs": [],
   "source": [
    "def summarize_by_cluster_distance(sentences):\n",
    "    nclusters= 3\n",
    "    closest_indexes = get_closest_sentences_after_clustering(sentences, nclusters)\n",
    "    buffer = \"\"\n",
    "    for i in closest_indexes:\n",
    "        buffer += str(sentences[i])\n",
    "    return buffer"
   ]
  },
  {
   "cell_type": "code",
   "execution_count": 4,
   "metadata": {},
   "outputs": [],
   "source": [
    "def summarize_with_text_rank(sentences):\n",
    "    tfidf_vectorizer = TfidfVectorizer(tokenizer=word_tokenizer,\n",
    "                                        stop_words=stopwords.words('english'),\n",
    "                                        max_df=0.9,\n",
    "                                        min_df=0.05,\n",
    "                                        lowercase=True)\n",
    "    tfidf_matrix = tfidf_vectorizer.fit_transform(sentences)\n",
    "    matrix = tfidf_matrix.todense()\n",
    "    sim_mat = np.zeros([len(sentences), len(sentences)])\n",
    "    for i in range(len(sentences)):\n",
    "        for j in range(len(sentences)):\n",
    "            sim_mat[i][j] = cosine_similarity(matrix[i], matrix[j])[0,0]\n",
    "    nx_graph = nx.from_numpy_array(sim_mat)\n",
    "    scores = nx.pagerank(nx_graph)\n",
    "    ranked_sentences = sorted(((scores[i],s) for i,s in enumerate(sentences)), reverse=True)\n",
    "    n_of_sentences = 3\n",
    "    top_sentences = []\n",
    "    buffer = \"\"\n",
    "    for i in range(n_of_sentences):\n",
    "        sentence = ranked_sentences[i][1]\n",
    "        top_sentences.append({\"sentence\": sentence, \"index\": sentences.index(sentence)})\n",
    "    ordered_by_occurency = sorted(top_sentences, key=lambda k: k['index']) \n",
    "    for sentence_dict in ordered_by_occurency:\n",
    "        buffer += sentence_dict['sentence']\n",
    "    return buffer"
   ]
  },
  {
   "cell_type": "code",
   "execution_count": 5,
   "metadata": {},
   "outputs": [],
   "source": [
    "def Get_Keywords(fullText):\n",
    "        data = [] \n",
    "        words = []\n",
    "        for i in sent_tokenize(fullText): \n",
    "            temp = [] \n",
    "            for j in word_tokenize(i): \n",
    "                temp.append(j.lower()) \n",
    "                words.append(j.lower())\n",
    "            data.append(temp) \n",
    "        model2 = gensim.models.Word2Vec(data, min_count = 1, size = 100,sg = 1)    \n",
    "        sim_mat = np.zeros([len(words), len(words)])\n",
    "        for i in range(len(words)):\n",
    "            for j in range(len(words)):\n",
    "                sim_mat[i][j] = model2.similarity(words[i], words[j])\n",
    "        try:\n",
    "            nx_graph = nx.from_numpy_array(sim_mat)\n",
    "            scores = nx.pagerank(nx_graph)\n",
    "            ranked_words = sorted(((scores[i],s) for i,s in enumerate(words)), reverse=True)\n",
    "            return ranked_words\n",
    "        except:\n",
    "            return \"Não foi possível rankear as palavras, problemas de convergência\""
   ]
  },
  {
   "cell_type": "markdown",
   "metadata": {},
   "source": [
    "## Geração do Dataset"
   ]
  },
  {
   "cell_type": "code",
   "execution_count": 6,
   "metadata": {},
   "outputs": [],
   "source": [
    "import json\n",
    "file1 = open('australian_user_reviews.json', 'r', encoding=\"utf8\") \n",
    "lines = file1.readlines() \n",
    "\n",
    "documents = []\n",
    "for line in lines: \n",
    "    jsonLine = line.strip()\n",
    "    s = jsonLine.strip()\n",
    "    l = eval(s)\n",
    "    for i in l['reviews']:\n",
    "        documents.append(i['review'])"
   ]
  },
  {
   "cell_type": "code",
   "execution_count": 7,
   "metadata": {},
   "outputs": [
    {
     "data": {
      "text/plain": [
       "59305"
      ]
     },
     "execution_count": 7,
     "metadata": {},
     "output_type": "execute_result"
    }
   ],
   "source": [
    "len(documents)"
   ]
  },
  {
   "cell_type": "code",
   "execution_count": 8,
   "metadata": {},
   "outputs": [
    {
     "name": "stdout",
     "output_type": "stream",
     "text": [
      "Documentos com sentenças minimas:  766\n"
     ]
    }
   ],
   "source": [
    "filtred_documents = []\n",
    "sentences_threshold = 15\n",
    "for x in documents:\n",
    "    if(len(sent_tokenize(x)) >= sentences_threshold):\n",
    "        filtred_documents.append(x)\n",
    "print(\"Documentos com sentenças minimas: \", len(filtred_documents))"
   ]
  },
  {
   "cell_type": "markdown",
   "metadata": {},
   "source": [
    "## Sumarização"
   ]
  },
  {
   "cell_type": "code",
   "execution_count": 9,
   "metadata": {},
   "outputs": [
    {
     "name": "stdout",
     "output_type": "stream",
     "text": [
      "Document: 1\n",
      "\n",
      "Texto: \n",
      "\n",
      "Buy it. Support it. It's awesome. I will find you if you don't.^ Kek, what an old report.Personally I think you shouldn't play this game, although it might get better in a few years.I bought this game as soon as it came out, I bought the founders two pack. It was fun, pretty buggy, but it was full of promise. Skip forward a few years later. The game is worse. Lets talk about starting the game. The game is slow to start. Starting a game will take just as long, and when you get into the game itself, prepare for unoptimized slowness. The game runs terribly, is riddled with bugs and the devs generally don't add any new content. If this was developed by a good indie team, or an AAA team (Oh, did i forgot to mention they fired several people who worked at Bioware, and hired some scrubs?), it would be amazing. The concept is great, I would have really looked forward to this game shining, but the devs are horrible. I do not recommend this game.\n",
      "\n"
     ]
    },
    {
     "name": "stderr",
     "output_type": "stream",
     "text": [
      "C:\\Users\\hugos\\Anaconda3\\lib\\site-packages\\sklearn\\feature_extraction\\text.py:300: UserWarning: Your stop_words may be inconsistent with your preprocessing. Tokenizing the stop words generated tokens [\"'d\", \"'ll\", \"'re\", \"'s\", \"'ve\", 'could', 'might', 'must', \"n't\", 'need', 'sha', 'wo', 'would'] not in stop_words.\n",
      "  'stop_words.' % sorted(inconsistent))\n"
     ]
    },
    {
     "name": "stdout",
     "output_type": "stream",
     "text": [
      "Resumo  com algoritmo distancia centroids:\n",
      "\n",
      "The concept is great, I would have really looked forward to this game shining, but the devs are horrible.The game is slow to start.It's awesome.\n",
      "\n",
      "\n"
     ]
    },
    {
     "name": "stderr",
     "output_type": "stream",
     "text": [
      "C:\\Users\\hugos\\Anaconda3\\lib\\site-packages\\sklearn\\feature_extraction\\text.py:300: UserWarning: Your stop_words may be inconsistent with your preprocessing. Tokenizing the stop words generated tokens [\"'d\", \"'ll\", \"'re\", \"'s\", \"'ve\", 'could', 'might', 'must', \"n't\", 'need', 'sha', 'wo', 'would'] not in stop_words.\n",
      "  'stop_words.' % sorted(inconsistent))\n"
     ]
    },
    {
     "name": "stdout",
     "output_type": "stream",
     "text": [
      "Resumo  com text rank:\n",
      "\n",
      "The game is slow to start.Starting a game will take just as long, and when you get into the game itself, prepare for unoptimized slowness.The concept is great, I would have really looked forward to this game shining, but the devs are horrible.\n",
      "\n",
      "\n",
      "\n",
      "Document: 2\n",
      "\n",
      "Texto: \n",
      "\n",
      "I'd definitely recommend this game for people who want to expand their vocabulary, but there are a few things I'd like to point out.-While this is almost never required for romance languages, in Japanese, Chinese and Korean, words, Especially adjectives and verbs, can be synonymous but imply different things. This is almost always the case in Japanese, where verbs have transitive and intransitive forms, but this is not listed in the definition, only one form is presented. This means doing research on the word you'll find yourself using more will help you be more fluent in the long run.-So much katakana... I'd like to see really rare kanji forms of words, as they can appear in stories and some videogames (You know, like English games using the words, 'Thee', 'Thou', etc. They're rare because of their age, but they can still find a use in medieval style games!). In fact, I might prefer it that way as I want to learn as much words as possible and converting English to katakana is easy when you learn about how Japanese pronunciation works. Just add a note to say it's rare to avoid confusion.-Some objects are... Odd. I saw this red box and the definition said it was a piggy bank or something, I was confused until I saw a dial, which meant it was a safe. Maybe you should make objects cliched/stereotyped and exaggerated to help people understand with a quick glance.-It doesn't follow spaced repitition, so you can mash the replay button endlessly until you get yourself a star. If you're a serious learner, never press the replay button, as you just bring it back to your short term memory and fail to remember it the next few days, at least space the replays by an hour the *first* time you try it.-Lists make it too easy sometimes, avoid using them and just use the random button, as I found myself just clicking whatever's next to the last object I clicked on, as I was able to remember the next thing I added right after. This is a mnemonic that relies on the location of the object INGAME, so it doesn't really help you learn. If you really want to do lists, run around the whole house clicking random items and adding them to the list, avoiding any sort of order or pattern.And here's some tips for Japanese:-Avoid Romaji, in fact, do kanji, when you don't know a word, you don't know it, there's no improving your ability to decipher meaning from kanji, so just dive right into it. Do kana if you're really keen on learning pronunciation before reading, and want to do it really, really quickly. Same thing probably applies with Pinyin and Hanzi, but I haven't played  the Chinese version so I don't know if Pinyin is provided.-The dots that appear between kana when you look at how to read the kanji is important, memorise the kana in sections divided by the dots, and their associated kanji (e.g. (毎日 [まい＊にち] まい is 毎 and にち is 日)) This is important, words might have multiple readings, and you might get them wrong, but if you memorise at least ONE reading for the kanji, you can type it on a computer, and even get the correct reading by typing the kanji on a dictionary.-While katakana is easy when you know it well enough, sometimes it isn't, as you might say different versions of a word (E.g. Fairy Floss vs. Cotton Candy, (Well, it's neither when translated to Japanese, but you get my point!)) or it's just katakana but isn't based on English, (e.g. パン for bread). Either way, it's nice to learn a ton of katakana in this game as you get badges for it.Other than that, it's good as you'll find objects in an every day home, and the exploration stops you from being bored quickly, and most importantly:It makes you think of (and therefore associate the word you're learning with) objects and pictures, rather than the English translation, which means that you can achieve fluency which allows you to form sentences in the language you want in your head directly, rather than creating an English sentence, translating it to your wanted language, THEN saying, writing or expressing it.\n",
      "\n"
     ]
    },
    {
     "name": "stderr",
     "output_type": "stream",
     "text": [
      "C:\\Users\\hugos\\Anaconda3\\lib\\site-packages\\sklearn\\feature_extraction\\text.py:300: UserWarning: Your stop_words may be inconsistent with your preprocessing. Tokenizing the stop words generated tokens [\"'d\", \"'ll\", \"'re\", \"'s\", \"'ve\", 'could', 'might', 'must', \"n't\", 'need', 'sha', 'wo', 'would'] not in stop_words.\n",
      "  'stop_words.' % sorted(inconsistent))\n"
     ]
    },
    {
     "name": "stdout",
     "output_type": "stream",
     "text": [
      "Resumo  com algoritmo distancia centroids:\n",
      "\n",
      "They're rare because of their age, but they can still find a use in medieval style games!).If you really want to do lists, run around the whole house clicking random items and adding them to the list, avoiding any sort of order or pattern.And here's some tips for Japanese:-Avoid Romaji, in fact, do kanji, when you don't know a word, you don't know it, there's no improving your ability to decipher meaning from kanji, so just dive right into it.Maybe you should make objects cliched/stereotyped and exaggerated to help people understand with a quick glance.-It doesn't follow spaced repitition, so you can mash the replay button endlessly until you get yourself a star.\n",
      "\n",
      "\n"
     ]
    },
    {
     "name": "stderr",
     "output_type": "stream",
     "text": [
      "C:\\Users\\hugos\\Anaconda3\\lib\\site-packages\\sklearn\\feature_extraction\\text.py:300: UserWarning: Your stop_words may be inconsistent with your preprocessing. Tokenizing the stop words generated tokens [\"'d\", \"'ll\", \"'re\", \"'s\", \"'ve\", 'could', 'might', 'must', \"n't\", 'need', 'sha', 'wo', 'would'] not in stop_words.\n",
      "  'stop_words.' % sorted(inconsistent))\n"
     ]
    },
    {
     "name": "stdout",
     "output_type": "stream",
     "text": [
      "Resumo  com text rank:\n",
      "\n",
      "If you really want to do lists, run around the whole house clicking random items and adding them to the list, avoiding any sort of order or pattern.And here's some tips for Japanese:-Avoid Romaji, in fact, do kanji, when you don't know a word, you don't know it, there's no improving your ability to decipher meaning from kanji, so just dive right into it.(毎日 [まい＊にち] まい is 毎 and にち is 日)) This is important, words might have multiple readings, and you might get them wrong, but if you memorise at least ONE reading for the kanji, you can type it on a computer, and even get the correct reading by typing the kanji on a dictionary.-While katakana is easy when you know it well enough, sometimes it isn't, as you might say different versions of a word (E.g.Either way, it's nice to learn a ton of katakana in this game as you get badges for it.Other than that, it's good as you'll find objects in an every day home, and the exploration stops you from being bored quickly, and most importantly:It makes you think of (and therefore associate the word you're learning with) objects and pictures, rather than the English translation, which means that you can achieve fluency which allows you to form sentences in the language you want in your head directly, rather than creating an English sentence, translating it to your wanted language, THEN saying, writing or expressing it.\n",
      "\n",
      "\n",
      "\n",
      "Document: 3\n",
      "\n",
      "Texto: \n",
      "\n",
      "INTRODUCTION/STORYTitan Souls takes the approach Dark Souls has with its story. It gives you little to no information and rather instead leaves you to sort of generate your own theories about it. This isn't a bad thing at all especially for people like me with ADHD. We easily get lost trying to keep up with stories and often forget important details. If you're looking for a story rich game  stop reading now and go look for something else  because you will be very disappointed. You will need some sort of controller if you wish to stand a chance in Titan Souls. The keyboard controls are pretty bad. GENERAL OVERVIEWTitan Souls is extremely simplistic and follows a pattern that you'll most likely come to love. Every boss is a 1-2 shot kill and you (the player) are also a one shot kill. Unlike many games where you the player may feel you have a huge advantage over the boss or vice versa I feel there's something special about Titan Souls. It may be weird to say but in Titan Souls I always felt I was on an even playing field since there is no progression (you never get any upgrades, throughout the entire game you have the same weapons, stats, etc) I actually came to love this. No BS, Titan Souls is all about skipping the grinding and getting straight to the chase; the bosses. COMBATCombat in TS takes a very interesting approach. You get one arrow which can be brought back to you by holding down the same button you used to fire the arrow. Your arrow will travel distance based on how long you charge it. This gives every shot meaning since whatever you fire you must either chase after or pull back towards you. The con of pulling is it you must stand still, this sounds like a very small thing but in TS this can make some very tricky situations during fights. Most fights come down to a matter of how well you can aim in fast paced situations.PRICE AND PLAY TIMEThe base game took me about three hours to complete. Upon beating the game you unlock a few other modes which can extend your play time but it's still the same game. I purchased this game during the Steam 2016 Summer Sale for about $3.75 and I can say it was definitely worth the price. I would definitely not puchase this game at full price though, I personally think AT MOST this game should be sold for around $10. I highly recommend you download the demo for this game as it gives you a few of the bosses from the game to see how you'll like it. This is the reason I bought TS and I can say the demo was in fact a pretty accurate representation of what the game itself is like.\n",
      "\n"
     ]
    },
    {
     "name": "stderr",
     "output_type": "stream",
     "text": [
      "C:\\Users\\hugos\\Anaconda3\\lib\\site-packages\\sklearn\\feature_extraction\\text.py:300: UserWarning: Your stop_words may be inconsistent with your preprocessing. Tokenizing the stop words generated tokens [\"'d\", \"'ll\", \"'re\", \"'s\", \"'ve\", 'could', 'might', 'must', \"n't\", 'need', 'sha', 'wo', 'would'] not in stop_words.\n",
      "  'stop_words.' % sorted(inconsistent))\n"
     ]
    },
    {
     "name": "stdout",
     "output_type": "stream",
     "text": [
      "Resumo  com algoritmo distancia centroids:\n",
      "\n",
      "You get one arrow which can be brought back to you by holding down the same button you used to fire the arrow.I would definitely not puchase this game at full price though, I personally think AT MOST this game should be sold for around $10.You will need some sort of controller if you wish to stand a chance in Titan Souls.\n",
      "\n",
      "\n"
     ]
    },
    {
     "name": "stderr",
     "output_type": "stream",
     "text": [
      "C:\\Users\\hugos\\Anaconda3\\lib\\site-packages\\sklearn\\feature_extraction\\text.py:300: UserWarning: Your stop_words may be inconsistent with your preprocessing. Tokenizing the stop words generated tokens [\"'d\", \"'ll\", \"'re\", \"'s\", \"'ve\", 'could', 'might', 'must', \"n't\", 'need', 'sha', 'wo', 'would'] not in stop_words.\n",
      "  'stop_words.' % sorted(inconsistent))\n"
     ]
    },
    {
     "name": "stdout",
     "output_type": "stream",
     "text": [
      "Resumo  com text rank:\n",
      "\n",
      "Unlike many games where you the player may feel you have a huge advantage over the boss or vice versa I feel there's something special about Titan Souls.It may be weird to say but in Titan Souls I always felt I was on an even playing field since there is no progression (you never get any upgrades, throughout the entire game you have the same weapons, stats, etc) I actually came to love this.I highly recommend you download the demo for this game as it gives you a few of the bosses from the game to see how you'll like it.\n",
      "\n",
      "\n",
      "\n",
      "Document: 4\n",
      "\n",
      "Texto: \n",
      "\n",
      "So... You crashed your plane. You absolute ♥♥♥♥ up... Well atleast you have your son... No you don't he's gone too... What do you do? Well you grab the axe out of that womens stomach and eat all the food on the plane and get going to find your son. First you need to establish a base. Build up them walls nice and high so the Mutants won't get to you... Well except for the one with like 100 Arms but don't worry about that. Then you need to find the keycards.. Adventure to a cave, find the place where bones are everywhere. Dodge that guy with 100 arms and there will be a dead person with a keycard. Grab that ♥♥♥♥ and get out of there. Ok you got everything you need. See that deep hole? Go down it. Yeah right down in there. There is a big man made door. Open it with the keycard.\"You can't do that yet\"\"Why?\"\"Its not added in.\"\"Ah ♥♥♥♥\"\"Besides this is a review not a guide\"\"Oh....\"The Forest, a place of Cannibal Mutants with no ♥♥♥♥♥, run around surviving and beating the wild with all your strength. With you being a famous survivor and Timmy, your son, being a dumbass, you can conquer The Forest... With endless updates (Really updates are like every 2 weeks its awesome). Just play with a friend because that ♥♥♥♥♥ scary.Hope this review helped. Buy this game because its good.\n",
      "\n"
     ]
    },
    {
     "name": "stderr",
     "output_type": "stream",
     "text": [
      "C:\\Users\\hugos\\Anaconda3\\lib\\site-packages\\sklearn\\feature_extraction\\text.py:300: UserWarning: Your stop_words may be inconsistent with your preprocessing. Tokenizing the stop words generated tokens [\"'d\", \"'ll\", \"'re\", \"'s\", \"'ve\", 'could', 'might', 'must', \"n't\", 'need', 'sha', 'wo', 'would'] not in stop_words.\n",
      "  'stop_words.' % sorted(inconsistent))\n"
     ]
    },
    {
     "name": "stdout",
     "output_type": "stream",
     "text": [
      "Resumo  com algoritmo distancia centroids:\n",
      "\n",
      "\"\"Ah ♥♥♥♥\"\"Besides this is a review not a guide\"\"Oh....\"The Forest, a place of Cannibal Mutants with no ♥♥♥♥♥, run around surviving and beating the wild with all your strength.Then you need to find the keycards..Yeah right down in there.\n",
      "\n",
      "\n"
     ]
    },
    {
     "name": "stderr",
     "output_type": "stream",
     "text": [
      "C:\\Users\\hugos\\Anaconda3\\lib\\site-packages\\sklearn\\feature_extraction\\text.py:300: UserWarning: Your stop_words may be inconsistent with your preprocessing. Tokenizing the stop words generated tokens [\"'d\", \"'ll\", \"'re\", \"'s\", \"'ve\", 'could', 'might', 'must', \"n't\", 'need', 'sha', 'wo', 'would'] not in stop_words.\n",
      "  'stop_words.' % sorted(inconsistent))\n"
     ]
    },
    {
     "name": "stdout",
     "output_type": "stream",
     "text": [
      "Resumo  com text rank:\n",
      "\n",
      "Yeah right down in there.There is a big man made door.Buy this game because its good.\n",
      "\n",
      "\n",
      "\n",
      "Document: 5\n",
      "\n",
      "Texto: \n",
      "\n",
      "Is your computer BAD? Do you want the best games but your computer can't handle it? Well this games for you! Its basically DayZ and Minecraft squished together! So if your computer can't hold DayZ, Come on down and try this! Loot towns! Build bases! Fight the Zombies that are everywhere! Yes everywhere even above you... Wait no that was a lie. * Continues *. This is endless fun! Play with your friends if your to scared to fight the little zombies. Except for the one behind you! Wait that was a lie again.. Well then, what are you waiting for? Download this game right now and then play it then get Gold Upgrade then have endless fun and oh by the way theres a zombie behind you to your left.. Wait that was a lie. Or was it...Lets end this. This is a brilliant game and you should get it if you love DayZ but can't handle it on your CP. Goodbye!\n",
      "\n"
     ]
    },
    {
     "name": "stderr",
     "output_type": "stream",
     "text": [
      "C:\\Users\\hugos\\Anaconda3\\lib\\site-packages\\sklearn\\feature_extraction\\text.py:300: UserWarning: Your stop_words may be inconsistent with your preprocessing. Tokenizing the stop words generated tokens [\"'d\", \"'ll\", \"'re\", \"'s\", \"'ve\", 'could', 'might', 'must', \"n't\", 'need', 'sha', 'wo', 'would'] not in stop_words.\n",
      "  'stop_words.' % sorted(inconsistent))\n"
     ]
    },
    {
     "name": "stdout",
     "output_type": "stream",
     "text": [
      "Resumo  com algoritmo distancia centroids:\n",
      "\n",
      "Wait no that was a lie.Do you want the best games but your computer can't handle it?Fight the Zombies that are everywhere!\n",
      "\n",
      "\n"
     ]
    },
    {
     "name": "stderr",
     "output_type": "stream",
     "text": [
      "C:\\Users\\hugos\\Anaconda3\\lib\\site-packages\\sklearn\\feature_extraction\\text.py:300: UserWarning: Your stop_words may be inconsistent with your preprocessing. Tokenizing the stop words generated tokens [\"'d\", \"'ll\", \"'re\", \"'s\", \"'ve\", 'could', 'might', 'must', \"n't\", 'need', 'sha', 'wo', 'would'] not in stop_words.\n",
      "  'stop_words.' % sorted(inconsistent))\n"
     ]
    },
    {
     "name": "stdout",
     "output_type": "stream",
     "text": [
      "Resumo  com text rank:\n",
      "\n",
      "Fight the Zombies that are everywhere!Wait no that was a lie.Wait that was a lie.\n",
      "\n",
      "\n",
      "\n",
      "Document: 6\n",
      "\n",
      "Texto: \n",
      "\n",
      "To commemorate tha beta of Steam Reviews, it only make sense dat I finally write a recommendation fo' a game dat has been close ta mah ♥♥♥ since tha dizzle I was first introduced ta it: Terraria.Terraria has proven ta be a ♥♥♥♥♥♥♥♥ of funk ta play, n' has been one of mah freshest vizzle game time sinks up in recent mutha♥♥♥♥in years cuz of dat ♥♥♥♥. Between lenient system requirements, a solid (albeit imbalanced, at times) combat system, a funky-♥♥♥ broad permittizzle fo' exploration n' a wide selection of buildin decor, itz tha type of game dat strikes me as havin suttin' fo' everyone. Which is good, when you consider dat it also has multiplayer n' ♥♥♥♥. Even mo' betta when you git ta tha late game, which has a wide array of weapons, armors n' tools ta allow fo' a wide variety of specializations.Buildin n' exploration is phat points up in favor of tha game yo, but tha gameplay mechanics is suttin' I'd like ta single up fo' praise. For a 2D game, its combat system has a ♥♥♥♥♥♥♥♥ of spectacle, n' like thatz part of why I find it so charmin yo. Hurtin enemies--even dem playas whoz ♥♥♥ is vastly inferior ta you--feels good. Y'all KNOW dat ♥♥♥♥, mutha♥♥♥♥a! I be fly as a gangbangin' falcon, soarin all up in tha sky dawwwwg! It aint nuthin but satisfyin ta hear tha hit sound on tha mo' squishy enemies, n' peep dem explode tha ♥♥♥♥ into fine lil chunks when they take a thugged-out dirt nap. Ground movement could be mo' betta yo, but certain late game ♥♥♥♥ hit you wit tha mobilitizzle ta dash n' fly, which straight-up expand how tha ♥♥♥♥ you can explore n' fight fo' realz. And wit a wide selection of weapons, every last mutha♥♥♥♥in playa is bound ta find a rosta of tools, spells n' fish-related artillery dat fits they playstyle.Da game aint without flaws, mind yo thugged-out ♥♥♥. With tha gamez update history, tha launch endgame now vastly differs from dat of tha current one. This has hustled ta some balizzle n' progression issues, da most thugged-out glarin of which bein how tha ♥♥♥♥ sluggish tha early game feels. Well shiiiit, it worries me dat tha start of tha game might dissuade some playas from playing, when they might ludd what tha ♥♥♥♥ tha late game has ta offer n' ♥♥♥♥. Da game also has a wack g-thang of recyclin mob AI wit reskins, though dis be averted by adjustin certain parametas n' givin dem unique abilitizzles ta hide tha fact. Even though I have mo' ta say bout tha shortcomings, there be a just too much phat up in tha game ta stay mad bout what tha ♥♥♥♥ effectively boils down ta nitpicking.Plus, it has hats fo' realz. Any game dat has a selection of basebizzle caps gets brownie points.Watch some trailers. Read some other props. If dis be lookin like suttin' you'd be interested in, then take it from me: give Terraria a cold-♥♥♥ lil chance. Da game occasionally goes on sale fo' 75% off, so pick up a gangbangin' four pack fo' yo ♥♥♥ n' three playas. If I be wrong, then I cost you a meal at Subway--not subliminal advertising--and I be sorry as a mutha♥♥♥♥a bout dat ♥♥♥♥♥♥♥t. But if I be right, then it'll be well worth tha price. We sposed ta ♥♥♥♥in pay $60 these minutes fo' a gangbangin' fulfillin gamin experience. This is one that'll run you $10, at most. ORIGINAL REVIEW BY       [R] SparkeeLecaro        http://steamcommunity.com//id/sparkeelecaro/\n",
      "\n"
     ]
    },
    {
     "name": "stderr",
     "output_type": "stream",
     "text": [
      "C:\\Users\\hugos\\Anaconda3\\lib\\site-packages\\sklearn\\feature_extraction\\text.py:300: UserWarning: Your stop_words may be inconsistent with your preprocessing. Tokenizing the stop words generated tokens [\"'d\", \"'ll\", \"'re\", \"'s\", \"'ve\", 'could', 'might', 'must', \"n't\", 'need', 'sha', 'wo', 'would'] not in stop_words.\n",
      "  'stop_words.' % sorted(inconsistent))\n"
     ]
    },
    {
     "name": "stdout",
     "output_type": "stream",
     "text": [
      "Resumo  com algoritmo distancia centroids:\n",
      "\n",
      "Even mo' betta when you git ta tha late game, which has a wide array of weapons, armors n' tools ta allow fo' a wide variety of specializations.Buildin n' exploration is phat points up in favor of tha game yo, but tha gameplay mechanics is suttin' I'd like ta single up fo' praise.If I be wrong, then I cost you a meal at Subway--not subliminal advertising--and I be sorry as a mutha♥♥♥♥a bout dat ♥♥♥♥♥♥♥t.But if I be right, then it'll be well worth tha price.\n",
      "\n",
      "\n"
     ]
    },
    {
     "name": "stderr",
     "output_type": "stream",
     "text": [
      "C:\\Users\\hugos\\Anaconda3\\lib\\site-packages\\sklearn\\feature_extraction\\text.py:300: UserWarning: Your stop_words may be inconsistent with your preprocessing. Tokenizing the stop words generated tokens [\"'d\", \"'ll\", \"'re\", \"'s\", \"'ve\", 'could', 'might', 'must', \"n't\", 'need', 'sha', 'wo', 'would'] not in stop_words.\n",
      "  'stop_words.' % sorted(inconsistent))\n"
     ]
    },
    {
     "name": "stdout",
     "output_type": "stream",
     "text": [
      "Resumo  com text rank:\n",
      "\n",
      "To commemorate tha beta of Steam Reviews, it only make sense dat I finally write a recommendation fo' a game dat has been close ta mah ♥♥♥ since tha dizzle I was first introduced ta it: Terraria.Terraria has proven ta be a ♥♥♥♥♥♥♥♥ of funk ta play, n' has been one of mah freshest vizzle game time sinks up in recent mutha♥♥♥♥in years cuz of dat ♥♥♥♥.Even mo' betta when you git ta tha late game, which has a wide array of weapons, armors n' tools ta allow fo' a wide variety of specializations.Buildin n' exploration is phat points up in favor of tha game yo, but tha gameplay mechanics is suttin' I'd like ta single up fo' praise.Well shiiiit, it worries me dat tha start of tha game might dissuade some playas from playing, when they might ludd what tha ♥♥♥♥ tha late game has ta offer n' ♥♥♥♥.\n",
      "\n",
      "\n",
      "\n",
      "Document: 7\n",
      "\n",
      "Texto: \n",
      "\n",
      "In dis game yo ♥♥♥ be a Terrorist or elite Counter-Terrorist whoz ♥♥♥ has never fired a glock up in they game before a round starts, n' you can put dat on yo' toast. Yo ♥♥♥ must help yo' character learn how tha ♥♥♥♥ ta control they glocks while cappin' enemies. Put ya mutha♥♥♥♥in choppers up if ya feel dis! Right back up in yo mutha♥♥♥♥in ♥♥♥. Strangely, each character has tha mysterious juice ta fire one or two shots without wack recoil by straight-up briefly jerkin up in tha opposite direction they is movin in. I aint talkin' bout chicken n' gravy ♥♥♥♥♥♥. When yo' character wears a Kevlar vest, every last mutha♥♥♥♥in part of yo' character, except tha head, is made outta steel. Therefore, tha only way ta quickly bust a cap up in playas is ta blast dem up in tha head. Y'all KNOW dat ♥♥♥♥, mutha♥♥♥♥a! This can be buggin at first yo, but yo big-♥♥♥ booty is ghon soon git used ta blastin a lil' small-♥♥♥ smudge of pixels on top of a cold-♥♥♥ lil characterz body. Da Goddess of Guns can materialize glocks up in yo' characterz handz all dem secondz before a round starts, n' you can put dat on yo' toast. But ♥♥♥♥ dat shiznit yo, tha word on tha street is dat yo' character must pay fo' tha guns, which have vastly overinflated prices. When you have tha right amount of scrilla, tha Goddess will flash a menu up in yo' characterz eyes, allowin dem ta select tha glocks they want. Mo' advanced playas can make glocks materialize outta thin air wit they mind as long as they have tha right amount of scrilla.Maps is often bout evil terrorists tryin ta take a thugged-out dump on deserted places. Vandalizzle be a straight-up straight-up crime up in tha Counter-Strike series, so elite Counter-Terrorists is deployed ta stop em. Unfortunately fo' tha Terrorists, they is dumb n' only packed one bomb. But ♥♥♥♥ dat shiznit yo, tha word on tha street is dat tha Counter-Terrorists do not know how tha ♥♥♥♥ ta pick up a thugged-out dropped bomb, so tha Terrorists can still pick it up afta it is dropped by a gangbangin' fallen playa.In some maps, tha terrorists have kidnapped a janitor n' low-level desk jockey up in a funky-♥♥♥ building. Da Counter-Terrorists done been deployed ta save one, not both, of tha hostages. In reality, dis is just a thinly-veiled excuse fo' tha CTs ta cappin' tha Terrorists while pumpin roundz tha ♥♥♥♥ into tha invincible hostages. One weird thang bout hostage maps is dat you can purchase a \"Hostage Rescue Kit\", which somehow make gives you tha mobilitizzle ta put a grown playa on yo' shouldaz up in a second. Y'all KNOW dat ♥♥♥♥, mutha♥♥♥♥a! Perhaps it aint nuthin but a spell scroll dat allows hostages ta hover ta yo' characterz shoulders. Overall, Counter-Strike: Global Offensive be a surprisingly solid game bout playas wit da most thugged-out ♥♥♥♥♥♥ glock handlin abilitizzles eva peeped on Earth. Even though yo' charactas have tha aimin abilitizzlez of one of mah thugs wit Parkinsons Disease, you have nuff tactical options dat make tha game straight-up funk n' dynamic. It aint nuthin but worth pickin up.ORIGINAL REVIEW BY          DUNCAN DONUTS     http://steamcommunity.com/id/teflon1\n",
      "\n"
     ]
    },
    {
     "name": "stderr",
     "output_type": "stream",
     "text": [
      "C:\\Users\\hugos\\Anaconda3\\lib\\site-packages\\sklearn\\feature_extraction\\text.py:300: UserWarning: Your stop_words may be inconsistent with your preprocessing. Tokenizing the stop words generated tokens [\"'d\", \"'ll\", \"'re\", \"'s\", \"'ve\", 'could', 'might', 'must', \"n't\", 'need', 'sha', 'wo', 'would'] not in stop_words.\n",
      "  'stop_words.' % sorted(inconsistent))\n"
     ]
    },
    {
     "name": "stdout",
     "output_type": "stream",
     "text": [
      "Resumo  com algoritmo distancia centroids:\n",
      "\n",
      "But ♥♥♥♥ dat shiznit yo, tha word on tha street is dat tha Counter-Terrorists do not know how tha ♥♥♥♥ ta pick up a thugged-out dropped bomb, so tha Terrorists can still pick it up afta it is dropped by a gangbangin' fallen playa.In some maps, tha terrorists have kidnapped a janitor n' low-level desk jockey up in a funky-♥♥♥ building.This can be buggin at first yo, but yo big-♥♥♥ booty is ghon soon git used ta blastin a lil' small-♥♥♥ smudge of pixels on top of a cold-♥♥♥ lil characterz body.Y'all KNOW dat ♥♥♥♥, mutha♥♥♥♥a!\n",
      "\n",
      "\n"
     ]
    },
    {
     "name": "stderr",
     "output_type": "stream",
     "text": [
      "C:\\Users\\hugos\\Anaconda3\\lib\\site-packages\\sklearn\\feature_extraction\\text.py:300: UserWarning: Your stop_words may be inconsistent with your preprocessing. Tokenizing the stop words generated tokens [\"'d\", \"'ll\", \"'re\", \"'s\", \"'ve\", 'could', 'might', 'must', \"n't\", 'need', 'sha', 'wo', 'would'] not in stop_words.\n",
      "  'stop_words.' % sorted(inconsistent))\n"
     ]
    },
    {
     "name": "stdout",
     "output_type": "stream",
     "text": [
      "Resumo  com text rank:\n",
      "\n",
      "But ♥♥♥♥ dat shiznit yo, tha word on tha street is dat tha Counter-Terrorists do not know how tha ♥♥♥♥ ta pick up a thugged-out dropped bomb, so tha Terrorists can still pick it up afta it is dropped by a gangbangin' fallen playa.In some maps, tha terrorists have kidnapped a janitor n' low-level desk jockey up in a funky-♥♥♥ building.In reality, dis is just a thinly-veiled excuse fo' tha CTs ta cappin' tha Terrorists while pumpin roundz tha ♥♥♥♥ into tha invincible hostages.Even though yo' charactas have tha aimin abilitizzlez of one of mah thugs wit Parkinsons Disease, you have nuff tactical options dat make tha game straight-up funk n' dynamic.\n",
      "\n",
      "\n",
      "\n",
      "Document: 8\n",
      "\n",
      "Texto: \n",
      "\n",
      "Although the long awaited update finally came out and many things from my original review have been fixed/improved, I still can't give this game a thumbs up- Many new SFX have been added and the in game atmosphere (while playing with music off because I don’t really like HM music) has improved dramatically, but the title screen is still quiet. The rain is falling, the lightning is flashing, but it’s all silent. Also, some already existing (but horrible) SFX has been completely dropped out instead of being replaced with better ones. Monsters and skeletons on the first level make no sound at all while walking. You can hear your footsteps but monsters walk silently which looks/\"sounds\" really odd.- Keyboard controls are finally fixed, but now the gamepad is not working. Since the keys can’t be reassigned, and the default layout is terrible, the game is (at least for me) unplayable. No gamepad also means sitting in front of my monitor instead on my couch and playing on big screen TV.When at least the gamepad support is fixed I’ll gladly change my review to positive. The game progressed a lot since the original release and is finally (almost) how it should have been from the start. ----Original review:This review is based on the latest version of the game available to me, which is v1.0 for OSX (and I believe it’s also the latest version for Linux). Since the release the developers released a number of patches, Windows only. For a Windows review read somewhere else. I’ll update this as / if game gets updated.From the developers website: \"Slain! is affectionately inspired by games such as Ghosts and Goblins, Altered Beast, Shadow Of The Beast and Golden Axe\"Played all of those as a kid. The only thing that's better in Slain! are graphics. Everything else is much, much worse. So sad I backed this on Kickstarter, can't get the refund. If there was only a bug here or there, I would have hope that it can be fixed. But it's not about the bugs here (actually haven't encountered any), it's about poor game design, really bad controls, missing sound effects… In the games mentioned above there was at least some feedback / knock back when you get hit by an enemy, in Slain! enemies walk through you. Sure, all this can be fixed but it’s not a question of days but rather months. At this stage, I would suggest to the developers to slap the “early access” badge on this and take it from there.EDIT #4:As of 31 May developers \"hope\" they'll have OSX (that probably means Linux too) update ”in the near future\". Thanks for the kick in the balls, again. EDIT #3:Hoooraaay! Patch 1 is out! It fixes sooo many things! Oh, wait... it's just for Win. No patch for OSX and Linux. But the store page says the game supports OSX and Linux? Well, it also says there are trading cards and achievements.... but you know, who cares anymore.EDIT #2:Achievements are broken. You can get the first one, but that's it, the rest of them don't work. Store page states \"trading cards\", but they are nonexistent.EDIT #1:Try turning the music off and you’ll find that this game is almost mute!Except from generic footsteps and sword sounds there are no sounds when you pick up power ups, die from spikes, break stones or fall down. On the menu screen you see the rain falling and flashes on the screen (lightning) but can’t hear any of that, it’s all quiet. At the beginning a monster spawns from the ground, blood sprays from the pit, visually very dramatic… no sound… no ground rumbling, no sound of blood spraying, the monster is mute. Fire gargoyles spit fireballs from their mouths… no sound at all.  Monsters make engine revving like sound which starts quietly, then gradually goes louder, then ends abruptly and then starts over in a loop. Skeletons make a fireplace crackling like sound (bones?) but die without making any sound… The list goes on and on. And I’ll remind you all that one of the Kickstarter stretch goals (which WAS reached) was hiring “dedicated professional audio designer”.\n",
      "\n"
     ]
    },
    {
     "name": "stderr",
     "output_type": "stream",
     "text": [
      "C:\\Users\\hugos\\Anaconda3\\lib\\site-packages\\sklearn\\feature_extraction\\text.py:300: UserWarning: Your stop_words may be inconsistent with your preprocessing. Tokenizing the stop words generated tokens [\"'d\", \"'ll\", \"'re\", \"'s\", \"'ve\", 'could', 'might', 'must', \"n't\", 'need', 'sha', 'wo', 'would'] not in stop_words.\n",
      "  'stop_words.' % sorted(inconsistent))\n"
     ]
    },
    {
     "name": "stdout",
     "output_type": "stream",
     "text": [
      "Resumo  com algoritmo distancia centroids:\n",
      "\n",
      "Thanks for the kick in the balls, again.Monsters and skeletons on the first level make no sound at all while walking.Since the keys can’t be reassigned, and the default layout is terrible, the game is (at least for me) unplayable.\n",
      "\n",
      "\n"
     ]
    },
    {
     "name": "stderr",
     "output_type": "stream",
     "text": [
      "C:\\Users\\hugos\\Anaconda3\\lib\\site-packages\\sklearn\\feature_extraction\\text.py:300: UserWarning: Your stop_words may be inconsistent with your preprocessing. Tokenizing the stop words generated tokens [\"'d\", \"'ll\", \"'re\", \"'s\", \"'ve\", 'could', 'might', 'must', \"n't\", 'need', 'sha', 'wo', 'would'] not in stop_words.\n",
      "  'stop_words.' % sorted(inconsistent))\n"
     ]
    },
    {
     "name": "stdout",
     "output_type": "stream",
     "text": [
      "Resumo  com text rank:\n",
      "\n",
      "Since the keys can’t be reassigned, and the default layout is terrible, the game is (at least for me) unplayable.But it's not about the bugs here (actually haven't encountered any), it's about poor game design, really bad controls, missing sound effects… In the games mentioned above there was at least some feedback / knock back when you get hit by an enemy, in Slain!Thanks for the kick in the balls, again.\n",
      "\n",
      "\n",
      "\n",
      "Document: 9\n",
      "\n",
      "Texto: \n",
      "\n",
      "*Breaks wall.* *Breaks wall.* *Breaks wall.* *Breaks wall.* *Breaks wall.* *Breaks wall.* *Breaks wall.* *Breaks wall.* *Breaks wall.* *Breaks wall.* *Breaks wall.* *Breaks wall.* *Breaks wall.* *Breaks wall.* *Breaks wall.* *Breaks wall.* *Breaks wall.* *Breaks wall.* *Breaks wall.* *Breaks wall.* *Breaks wall.* *Breaks wall.* *Breaks wall.* *Breaks wall.*\n",
      "\n"
     ]
    },
    {
     "name": "stderr",
     "output_type": "stream",
     "text": [
      "C:\\Users\\hugos\\Anaconda3\\lib\\site-packages\\sklearn\\feature_extraction\\text.py:300: UserWarning: Your stop_words may be inconsistent with your preprocessing. Tokenizing the stop words generated tokens [\"'d\", \"'ll\", \"'re\", \"'s\", \"'ve\", 'could', 'might', 'must', \"n't\", 'need', 'sha', 'wo', 'would'] not in stop_words.\n",
      "  'stop_words.' % sorted(inconsistent))\n"
     ]
    },
    {
     "name": "stdout",
     "output_type": "stream",
     "text": [
      "Erro:  ['*Breaks wall.', '* *Breaks wall.', '* *Breaks wall.', '* *Breaks wall.', '* *Breaks wall.', '* *Breaks wall.', '* *Breaks wall.', '* *Breaks wall.', '* *Breaks wall.', '* *Breaks wall.', '* *Breaks wall.', '* *Breaks wall.', '* *Breaks wall.', '* *Breaks wall.', '* *Breaks wall.', '* *Breaks wall.', '* *Breaks wall.', '* *Breaks wall.', '* *Breaks wall.', '* *Breaks wall.', '* *Breaks wall.', '* *Breaks wall.', '* *Breaks wall.', '* *Breaks wall.', '*']\n",
      "Document: 10\n",
      "\n",
      "Texto: \n",
      "\n",
      "Not the best shooter, nor will you have the \"funniest\" time you can get out of an FPS. If you’re looking to have fun with mate or just by yourself, play, BF4, COD (Not ghost) or B2. I found that the actual shooters elements of the game is dull. Yeah, you got skyhooks and things around you, which are very handy, but the amount of enemies I had to face was annoying and at times, boring. You also can only have 2 weapons at a time. But what I did like was the power ups, which all had different uses. But for half the game I used like 2 of them, which I think they're is like over 7 or something. So why is this game so good? This game really shines, and is utterly unbeaten, with its engaging storyline. What a story, I never thought a game could engage me and make me care about the characters like this. I kept pushing on the average shooter because of this story. Also, there is a lot of freedom for the play, or as it seems. The graphics is more than good and the city is really awesome to, which you get to explore bits and pieces of the downtown dark alley ways to the wealth and good looking streets, parks, houses and more. So overall, this game is a masterpiece in its own right, and has defiantly set a new started in terms of storytelling games. (P.S. The ending will blow you away and I played most of this game on the PS3)8.5/10\n",
      "\n"
     ]
    },
    {
     "name": "stderr",
     "output_type": "stream",
     "text": [
      "C:\\Users\\hugos\\Anaconda3\\lib\\site-packages\\sklearn\\feature_extraction\\text.py:300: UserWarning: Your stop_words may be inconsistent with your preprocessing. Tokenizing the stop words generated tokens [\"'d\", \"'ll\", \"'re\", \"'s\", \"'ve\", 'could', 'might', 'must', \"n't\", 'need', 'sha', 'wo', 'would'] not in stop_words.\n",
      "  'stop_words.' % sorted(inconsistent))\n"
     ]
    },
    {
     "name": "stdout",
     "output_type": "stream",
     "text": [
      "Resumo  com algoritmo distancia centroids:\n",
      "\n",
      "I found that the actual shooters elements of the game is dull.Also, there is a lot of freedom for the play, or as it seems.But for half the game I used like 2 of them, which I think they're is like over 7 or something.\n",
      "\n",
      "\n"
     ]
    },
    {
     "name": "stderr",
     "output_type": "stream",
     "text": [
      "C:\\Users\\hugos\\Anaconda3\\lib\\site-packages\\sklearn\\feature_extraction\\text.py:300: UserWarning: Your stop_words may be inconsistent with your preprocessing. Tokenizing the stop words generated tokens [\"'d\", \"'ll\", \"'re\", \"'s\", \"'ve\", 'could', 'might', 'must', \"n't\", 'need', 'sha', 'wo', 'would'] not in stop_words.\n",
      "  'stop_words.' % sorted(inconsistent))\n"
     ]
    },
    {
     "name": "stdout",
     "output_type": "stream",
     "text": [
      "Resumo  com text rank:\n",
      "\n",
      "If you’re looking to have fun with mate or just by yourself, play, BF4, COD (Not ghost) or B2.This game really shines, and is utterly unbeaten, with its engaging storyline.Also, there is a lot of freedom for the play, or as it seems.\n",
      "\n",
      "\n",
      "\n",
      "Document: 11\n",
      "\n",
      "Texto: \n",
      "\n",
      "I can't describe how much I love this game. There is an amazing amount of polish and balance, from the visuals and the strategic depth, all the way to the raw and dirty visceral depths that combat can descend to.Let me tell you about the combat; It is good. My most memerable battle so far was a 2v2 where I aided a weaker captain vs a bandit, only for a high level bandit to join in.Bandit capital ships are weaker but they have an insane number and reserve of strike craft, which increases by level (not fighters, those are different). My ally engaged the motherships while I thinned the swarm but he was being overwhelmed, so I rammed the strongest enemy and kept thrusting to push him away (ramming is a big mechanic, more on it later). Freed to 1v1, my ally succeeded in destroying the first pirate, but at high cost; his shields down, his nose and two wing modules torn off and floating free, a core destroyed and his health but a sliver. Sensing blood, the swarm of strike craft pounced. There was nothing I could do to save him. He exploded magnificently, destroying many of his attackers who were too slow to flee.The remaining pirate and I circled while exchanging broadsides, each deadly piroette bringing us closer to a field of asteroids. His strongest weapons were on his nose and he fought to bring them to bear. I, meanwhile, was slightly more manoeuverable and clung on the the relative safety of his rear, while picking of the remaining swarm. Our shields failed at the same time.Shields, armour and hull are not just 3 interchangeable stats in SPAZ2. Shields are the most familiar, a flat, regenerating, protective field. Armour is different. Every single non core piece of the motherships have their own armour, some of which is shared to the core. If a part loses all its armour, it is torn off, and sometimes destroyed. Hull, or health is only relevent to the cores of the ship and when that is gone; boom. So unlike other games, it isn't destroy shields>armour>hull with various piercing weapons, it is shields>tear them to pieces or shoot straight for the core.We tore each other to pieces. I took his right wings out but clipped an asteroid at speed, destroying my left. Caught against it, he was able to bring his nose to bear, shreading off my remaining wings and one of my engines. Now he was more manoeuverable.In despairation, I boosted, smaller asteroids tearing into my hull until I placed a large one between us. Frustrated momentarily, he stopped and reloaded. Seizing this last opportunity, I came out of hiding behind him, my last weapons pounding his engine, trying to even the score. But it wasn't enough. He began to turn and rained fire on my last engine. Before I could be left helpless, I once more boosted, this time straight at his exposed engine, knocking it into the void while my nose crumpled and exploded.Both helpless now, no engines, but still he had weapons and he slowly, ever so slowly, turned to bring that hateful nose to bear. With nothing left, I had a moment of inspiration and grabbed the astreroid chunks with my tractor beam. In space, surrounded by the refuse of awesome technology, I beat him to death with a rock.A narrow victory, I collected the refuse of our 4 ships to just bearly rebuild 1, and then jumped to the void.All actions described above REALLY ARE IN THE GAME. If two things collide, they do armour type damage (very weak vs shields, weak vs hull) to eachother based on their mass and speed. If you can get an enemies shields down while yours are still up, boost at him/her, smash their bits off! Beware of ramming with your shields down, as you can wreck yourself. Finally, you can rebuild your mothership WHILE IN COMBAT. A wing came off? Try and grab it before it goes to far, and reattach it! Enemies powerful weapon came off? Remove your own and replace it!Did I mention I love this game?Also, there are so many viable ways of building your mothership, and none are perfect for all situations. I keep parts in storage to swap forms when dealing with different kinds of threats (General flying, starbases, pirates, mining) but my general form is the ION shield ram: Huge shields/thrust and some ION weapons or lasers to take down shields so I can ram them. It is weak to strike craft and starbases however, and is hard to mine with.\n",
      "\n"
     ]
    },
    {
     "name": "stderr",
     "output_type": "stream",
     "text": [
      "C:\\Users\\hugos\\Anaconda3\\lib\\site-packages\\sklearn\\feature_extraction\\text.py:300: UserWarning: Your stop_words may be inconsistent with your preprocessing. Tokenizing the stop words generated tokens [\"'d\", \"'ll\", \"'re\", \"'s\", \"'ve\", 'could', 'might', 'must', \"n't\", 'need', 'sha', 'wo', 'would'] not in stop_words.\n",
      "  'stop_words.' % sorted(inconsistent))\n"
     ]
    },
    {
     "name": "stdout",
     "output_type": "stream",
     "text": [
      "Resumo  com algoritmo distancia centroids:\n",
      "\n",
      "Caught against it, he was able to bring his nose to bear, shreading off my remaining wings and one of my engines.Our shields failed at the same time.Shields, armour and hull are not just 3 interchangeable stats in SPAZ2.Frustrated momentarily, he stopped and reloaded.\n",
      "\n",
      "\n"
     ]
    },
    {
     "name": "stderr",
     "output_type": "stream",
     "text": [
      "C:\\Users\\hugos\\Anaconda3\\lib\\site-packages\\sklearn\\feature_extraction\\text.py:300: UserWarning: Your stop_words may be inconsistent with your preprocessing. Tokenizing the stop words generated tokens [\"'d\", \"'ll\", \"'re\", \"'s\", \"'ve\", 'could', 'might', 'must', \"n't\", 'need', 'sha', 'wo', 'would'] not in stop_words.\n",
      "  'stop_words.' % sorted(inconsistent))\n"
     ]
    },
    {
     "name": "stdout",
     "output_type": "stream",
     "text": [
      "Resumo  com text rank:\n",
      "\n",
      "Shields are the most familiar, a flat, regenerating, protective field.Frustrated momentarily, he stopped and reloaded.Before I could be left helpless, I once more boosted, this time straight at his exposed engine, knocking it into the void while my nose crumpled and exploded.Both helpless now, no engines, but still he had weapons and he slowly, ever so slowly, turned to bring that hateful nose to bear.\n",
      "\n",
      "\n",
      "\n",
      "Document: 12\n",
      "\n",
      "Texto: \n",
      "\n",
      "Guns of Icarus Online is a First Person Western Shooter that is horrible in every way possible. This game is obviously a failure of a Call of Duty clone. The level up system seems to use unrealistic millitary ranks. I mean, what the ♥♥♥♥ is a \"Powder Monkey?\" You also lack the ability to prestige making replayability nil. The weapons.... Oh dear. You don't even get to hold the guns. They are mounted onto your ♥♥♥♥♥♥ vehicle and the aiming is horrible. Most guns don't even have ♥♥♥♥ing iron sights. And here it comes.... the worst part... the ♥♥♥♥ing sniper rifle. You heard me, sniper rifle. There is only one of those in the game and the idiots that made the game called it the \"Mercury Field Gun\" thinking it sounds cool or some ♥♥♥♥. Well it doesn't you filthy hipsters, just admit its mean't to be called the L96A1 Bolt Action Rifle. Oh yeah, I forgot. ITS NOT EVEN BOLT ACTION AND IT ONLY HAS 2 BULLETS. YOU ALSO LACK THE ABILITY TO DO 360 NO SCOPES. WHAT THE ♥♥♥♥ DEVS LEARN HOW TO MAKE AN ACTUAL GAME!!!Overall I give Guns of \"I-♥♥♥♥ed-your-mother-hard-last-night-carus\" a 420/69 - IGN.\n",
      "\n"
     ]
    },
    {
     "name": "stderr",
     "output_type": "stream",
     "text": [
      "C:\\Users\\hugos\\Anaconda3\\lib\\site-packages\\sklearn\\feature_extraction\\text.py:300: UserWarning: Your stop_words may be inconsistent with your preprocessing. Tokenizing the stop words generated tokens [\"'d\", \"'ll\", \"'re\", \"'s\", \"'ve\", 'could', 'might', 'must', \"n't\", 'need', 'sha', 'wo', 'would'] not in stop_words.\n",
      "  'stop_words.' % sorted(inconsistent))\n"
     ]
    },
    {
     "name": "stdout",
     "output_type": "stream",
     "text": [
      "Resumo  com algoritmo distancia centroids:\n",
      "\n",
      "Most guns don't even have ♥♥♥♥ing iron sights.There is only one of those in the game and the idiots that made the game called it the \"Mercury Field Gun\" thinking it sounds cool or some ♥♥♥♥.YOU ALSO LACK THE ABILITY TO DO 360 NO SCOPES.\n",
      "\n",
      "\n"
     ]
    },
    {
     "name": "stderr",
     "output_type": "stream",
     "text": [
      "C:\\Users\\hugos\\Anaconda3\\lib\\site-packages\\sklearn\\feature_extraction\\text.py:300: UserWarning: Your stop_words may be inconsistent with your preprocessing. Tokenizing the stop words generated tokens [\"'d\", \"'ll\", \"'re\", \"'s\", \"'ve\", 'could', 'might', 'must', \"n't\", 'need', 'sha', 'wo', 'would'] not in stop_words.\n",
      "  'stop_words.' % sorted(inconsistent))\n"
     ]
    },
    {
     "name": "stdout",
     "output_type": "stream",
     "text": [
      "Resumo  com text rank:\n",
      "\n",
      "You don't even get to hold the guns.Most guns don't even have ♥♥♥♥ing iron sights.Well it doesn't you filthy hipsters, just admit its mean't to be called the L96A1 Bolt Action Rifle.\n",
      "\n",
      "\n",
      "\n",
      "Document: 13\n",
      "\n",
      "Texto: \n",
      "\n",
      "Really fun if you like street racing games or a good challenge as this game can provide both. For a game released in 2003 it still stands pretty well today and even has a whole modding communtiy to back it up to keep the game interesting. I find this game to be really replayable as I keep coming back to play the through the game over and over again. Although it may be somewhat short, I find it just adds to the replayability of the game. The racing itself gets pretty fast paced when you get out of the first hub world with features like the burnout, nitrous and wheelies (for bikes) to keep you getting back up to speed pretty quickly. The open-world combined with open checkpoint style races allow for the player to go their own route through the races (or at least to the next checkpoint) or just follow the AI. Because of this, however, most races might require multiple tries to be able to learn the race beforehand and know where you're actually going and to take the optimal route to win. Trying to do these for the first time can sometime prove difficult as the races get longer and checkpoints are spread further out, which is where some of the difficulty comes in. Also that you have to use your current vehicle to beat people who are using vehicles of (most of the time) better performance. This isn't necessarily a complaint from me as the feeling from finally finishing first after many tries is amazing, knowing you can finally move on through the career. My only complaint is the bloody traffic; the most annoying/frustrating part about this game. I don't know if I just have really bad luck or something but it seems everytime a traffic car 'swerves' out of the way it always ends up swerving right into me as I see everyone pass me in that instant. Also when random long busses like to go across intersections right when you happen to be crossing perpendicular to them. But besides that, I absolutely love this game.*ProbablyJustANostalgiaFanaticReview*\n",
      "\n"
     ]
    },
    {
     "name": "stderr",
     "output_type": "stream",
     "text": [
      "C:\\Users\\hugos\\Anaconda3\\lib\\site-packages\\sklearn\\feature_extraction\\text.py:300: UserWarning: Your stop_words may be inconsistent with your preprocessing. Tokenizing the stop words generated tokens [\"'d\", \"'ll\", \"'re\", \"'s\", \"'ve\", 'could', 'might', 'must', \"n't\", 'need', 'sha', 'wo', 'would'] not in stop_words.\n",
      "  'stop_words.' % sorted(inconsistent))\n"
     ]
    },
    {
     "name": "stdout",
     "output_type": "stream",
     "text": [
      "Resumo  com algoritmo distancia centroids:\n",
      "\n",
      "I find this game to be really replayable as I keep coming back to play the through the game over and over again.Trying to do these for the first time can sometime prove difficult as the races get longer and checkpoints are spread further out, which is where some of the difficulty comes in.Also when random long busses like to go across intersections right when you happen to be crossing perpendicular to them.\n",
      "\n",
      "\n"
     ]
    },
    {
     "name": "stderr",
     "output_type": "stream",
     "text": [
      "C:\\Users\\hugos\\Anaconda3\\lib\\site-packages\\sklearn\\feature_extraction\\text.py:300: UserWarning: Your stop_words may be inconsistent with your preprocessing. Tokenizing the stop words generated tokens [\"'d\", \"'ll\", \"'re\", \"'s\", \"'ve\", 'could', 'might', 'must', \"n't\", 'need', 'sha', 'wo', 'would'] not in stop_words.\n",
      "  'stop_words.' % sorted(inconsistent))\n"
     ]
    },
    {
     "name": "stdout",
     "output_type": "stream",
     "text": [
      "Resumo  com text rank:\n",
      "\n",
      "Really fun if you like street racing games or a good challenge as this game can provide both.I find this game to be really replayable as I keep coming back to play the through the game over and over again.Trying to do these for the first time can sometime prove difficult as the races get longer and checkpoints are spread further out, which is where some of the difficulty comes in.\n",
      "\n",
      "\n",
      "\n",
      "Document: 14\n",
      "\n",
      "Texto: \n",
      "\n",
      "Where to start. Well I'm in it so it's guaranteed to be epic. All jokes aside though the game is awesome, and you can read my review to know more.The game overall is awesome, it's like borderlands 2, but it's better. The Scaling in BL2, was horrible from level 50 upwards. You need OP and Gamebreaking gear to get anywhere in the game fomr UVHM onwards. And I can already see the scaling in this game is a lot better. I'm able to now use Purple guns to defeat a raid boss, solo. The visuals, can be a little repetitive at times, but overall they are appealing and does bring different environments into the game. Now as for gameplay, well, many, including me who had seen the gameplay, thought that the butt-stomp ability would be a gimmick in the game that I would never use. I was wrong. It adds so much more to the combat, in addition with the low gravity, killing is a lot more fluid, getting around on foot isn't so boresome, and depending on how you use your \"double jump\", and where you activate the extra boost, gives completely different outcomes. For example, if I need to get to a higher ledge, a jump and boost when i'm halfway until the fulcrum of my jump, giving me a way higher jump. But If I was to say get passed a very wide crevice I would start sprinting, jump then activate the boost before I start descending. And this all may seem simple, but it can be applied to the combat maneuvres and it overall makes combat more pleasing. I particularly like to use the second descripted type of jump a lot when traversing without a vehicle, it practically triples my movement time and comes in handy, even in the normal gravity environments, such as Helios.Now for Classes. Of course everyone started the game as claptrap, so i'm going to go and do something different like I usually do, I played the game as Nisha, speccing into her middle and right trees, and found myself being basically a god, maybe here is where the teamwork really comes into play. Having all 4 Nisha's running around wouldn't work, because you have no way of healing or buffing teammates. Nisha is a very combat centred solo class. And I would say she is needed for every kind of boss fight, she deals damage and deals it where it matters. Claptrap, is a must have, he gives the team random buffs, and helps out alot with co-op, lots of health boosts, dmg boosts etc. Athena plays the role of the tank healer, she is a great class to play as with friends, although solo not so much. Her abilities are a lot like Maya's except she soaks up damage. She is also a vital part to the team, giving out lots of Health regen. I didn't play wilhelm much, but from what I did, He is just a straight up tank class. He takes all of the damage dealt while dealing a fair enough amount of damage. He is the most Balanced class from what i've played of him but isn't very fun (for lack of better term), So overall the classes have their own Pros and cons and they all do their own special thing that makes them vital to the team.As an overall, I'd say the game does use lots of content from Borderlands 2, including some legendaries and renamed Unique guns. The humour is a step up from Borderlands 2 and as an Australian I did get all of the jokes, so that could be a downside for some players who don't know much of Australian slang and colloquialism. But yes, the humour is well done and implemented, the story is EXCELLENT. I love it. *No spoilers* I hate lilith for what she did to jack, and I empathised for Jack as the hours passed. Some of the negative reviews here state that the campaign didn't give enough XP to get to the required levels, but that's because they didn't do the side missions, which were frankly better this time around. There is a lot more variety and SO MUCH story to be told in the side missions, like how Terramorphous made it onto Pandora, when Threshers where only a Moon Species (DAMN YOU HAMMERLOCK), or how Jack comes up with the idea of Moonshotting loaders to Pandora etc. Lots of things storywise are excellent, with a nice twist on Jack at the end and how he gets the scar on his face. The story just blew my mind the first time around, and I stuck around long enough for 3 more playthroughs up to TVHM and still find it enjoyable. I especially can't wait for the UVHM pack that will have a new Narrative Voice over along with Tiny Tina. Overall Game was excellent.Now for a short list of Pros and Cons incase you don't want to read all that garbage.Pros:- Story- Classes- Visuals- Soundtrack- Gameplay- Combat- Low Gravity- Enemy Scaling- Weapon Scaling- Replayability (I'd die if I didn't put that in there)Cons:- Nisha and Claptrap are the only 2 classes that are really enjoyable in SP and MP- Wilhelm and Athena lack enough SP Skills to play SP, but are both great for MP- Not as many legendaries- Maybe too many reused Borderlands 2 Assets- Comedy can get a little dry after a whileAnyway that's my Review of Borderlands: The Pre-Sequel I give this game an overall of:8.7/10. It's more of the same which isn't bad, it still has that Borderlands Charm, it delivers where in lots of ways Borderlands 2 failed. And even though it seems mediocre amongst many giants coming out this year, it's defenitely my Game of the Year. I can't wait for the Doppelganger Pack release tomorrow, and like i've said many many times. This game overall is excellents. It's a must buy for borderlands fans, and a must buy if you want to try out the series. TL;DR Game overall is excellent, more of the same Borderlands you love while changing it up a bit. New players will love it, while old fans will cherish it.\n",
      "\n"
     ]
    },
    {
     "name": "stderr",
     "output_type": "stream",
     "text": [
      "C:\\Users\\hugos\\Anaconda3\\lib\\site-packages\\sklearn\\feature_extraction\\text.py:300: UserWarning: Your stop_words may be inconsistent with your preprocessing. Tokenizing the stop words generated tokens [\"'d\", \"'ll\", \"'re\", \"'s\", \"'ve\", 'could', 'might', 'must', \"n't\", 'need', 'sha', 'wo', 'would'] not in stop_words.\n",
      "  'stop_words.' % sorted(inconsistent))\n"
     ]
    },
    {
     "name": "stdout",
     "output_type": "stream",
     "text": [
      "Resumo  com algoritmo distancia centroids:\n",
      "\n",
      "I was wrong.I was wrong.I was wrong.\n",
      "\n",
      "\n"
     ]
    },
    {
     "name": "stderr",
     "output_type": "stream",
     "text": [
      "C:\\Users\\hugos\\Anaconda3\\lib\\site-packages\\sklearn\\feature_extraction\\text.py:300: UserWarning: Your stop_words may be inconsistent with your preprocessing. Tokenizing the stop words generated tokens [\"'d\", \"'ll\", \"'re\", \"'s\", \"'ve\", 'could', 'might', 'must', \"n't\", 'need', 'sha', 'wo', 'would'] not in stop_words.\n",
      "  'stop_words.' % sorted(inconsistent))\n"
     ]
    },
    {
     "name": "stdout",
     "output_type": "stream",
     "text": [
      "Resumo  com text rank:\n",
      "\n",
      "All jokes aside though the game is awesome, and you can read my review to know more.The game overall is awesome, it's like borderlands 2, but it's better.The Scaling in BL2, was horrible from level 50 upwards.It adds so much more to the combat, in addition with the low gravity, killing is a lot more fluid, getting around on foot isn't so boresome, and depending on how you use your \"double jump\", and where you activate the extra boost, gives completely different outcomes.\n",
      "\n",
      "\n",
      "\n",
      "Document: 15\n",
      "\n",
      "Texto: \n",
      "\n",
      "I personally think War Thunder is a great game. But unfortunately it has it's downsides. I think i'll start with positive stuff, which is lot's.- The Graphics are amazing, but require a very good computer to actually get them.- Many of the sounds in the game are beautifully made and recorded, some of the best sound in any plane/tank simulator game.- Driving mechanics can be quite clunky, but are amazing when you get used to them.- Tank battles (arcade) can be pretty fun, especially lower tiers. Once you get higher though, it starts.....the bias.....the grinding......the broken game mechanics :(- Planes are great, but same as tanks, fun at low tier, not as much at higher tiers.Okay, now.....it's time for the brutal stuff._ *One day, Birdman Kreb's was driving his T-34 1942* While i was driving, i spotted a few enemy tanks and quickly dispatched them (surprisingly). I continued driving and ran into a Panzer IV, i also dispatched that (again surprising). Then i made the mistake and drove out of cover, and ran into a M4 Sherman. Now this is where the bull#### began. He fired on me and killed my entire crew 0_0. Now i would have been fine, if i didn't watch the replay. What i saw was, the bullet hitting my side armour (fired from the front) and hit the surface at an angle that would have made my armour more than 200mm (yes i tested this) and this somehow, bounced into my tank and killed everyone.(And if i ever get a pic of this, i'll put it up.)And yes i know about Russian bias and yes i hate it. Being in a kv-1 and taking 20+ hits from M4 Jumbo's and Stug's and a Pz IV, just seemed a bit crazy.Overall though, good game. Worth downloading (if you ahve a good computer).Just watch out for Russian Tanks, always aim for the turrets.Okay so i just out of a game, and i had my usual, T-50, T-34, Zis-30 and Kv-1. Only to be destroyed by an Su-122, that thing has a battle rating 1.3 higher than any of those tanks and is a tier higher, what is this matchmaking. >:(\n",
      "\n"
     ]
    },
    {
     "name": "stderr",
     "output_type": "stream",
     "text": [
      "C:\\Users\\hugos\\Anaconda3\\lib\\site-packages\\sklearn\\feature_extraction\\text.py:300: UserWarning: Your stop_words may be inconsistent with your preprocessing. Tokenizing the stop words generated tokens [\"'d\", \"'ll\", \"'re\", \"'s\", \"'ve\", 'could', 'might', 'must', \"n't\", 'need', 'sha', 'wo', 'would'] not in stop_words.\n",
      "  'stop_words.' % sorted(inconsistent))\n"
     ]
    },
    {
     "name": "stdout",
     "output_type": "stream",
     "text": [
      "Resumo  com algoritmo distancia centroids:\n",
      "\n",
      "I personally think War Thunder is a great game.Worth downloading (if you ahve a good computer).Just watch out for Russian Tanks, always aim for the turrets.Okay so i just out of a game, and i had my usual, T-50, T-34, Zis-30 and Kv-1.Being in a kv-1 and taking 20+ hits from M4 Jumbo's and Stug's and a Pz IV, just seemed a bit crazy.Overall though, good game.\n",
      "\n",
      "\n"
     ]
    },
    {
     "name": "stderr",
     "output_type": "stream",
     "text": [
      "C:\\Users\\hugos\\Anaconda3\\lib\\site-packages\\sklearn\\feature_extraction\\text.py:300: UserWarning: Your stop_words may be inconsistent with your preprocessing. Tokenizing the stop words generated tokens [\"'d\", \"'ll\", \"'re\", \"'s\", \"'ve\", 'could', 'might', 'must', \"n't\", 'need', 'sha', 'wo', 'would'] not in stop_words.\n",
      "  'stop_words.' % sorted(inconsistent))\n"
     ]
    },
    {
     "name": "stdout",
     "output_type": "stream",
     "text": [
      "Resumo  com text rank:\n",
      "\n",
      "Once you get higher though, it starts.....the bias.....the grinding......the broken game mechanics :(- Planes are great, but same as tanks, fun at low tier, not as much at higher tiers.Okay, now.....it's time for the brutal stuff._ *One day, Birdman Kreb's was driving his T-34 1942* While i was driving, i spotted a few enemy tanks and quickly dispatched them (surprisingly).What i saw was, the bullet hitting my side armour (fired from the front) and hit the surface at an angle that would have made my armour more than 200mm (yes i tested this) and this somehow, bounced into my tank and killed everyone.Worth downloading (if you ahve a good computer).Just watch out for Russian Tanks, always aim for the turrets.Okay so i just out of a game, and i had my usual, T-50, T-34, Zis-30 and Kv-1.\n",
      "\n",
      "\n",
      "\n",
      "Document: 16\n",
      "\n",
      "Texto: \n",
      "\n",
      "This game is surprisingly good, I recommend it if youre looking for a new coop game to play with friends or just a nice open world game mixed with parkour. Story (6/10):  While nothing special it does have its set of memorable characters. The main cast is pretty average and forgettable but the characters in the side quests are hilariously whacky and memorable. Graphics (8/10):  The game is absolutely beautiful and has flawless triple monitor support. You can see ripples on the clothing, grass and trees moving in the wind which only gets better during raining and storming weather. The facial animations on non story critical characters are a little stiff but the animations are pretty good otherwise.  Gameplay (8/10):  The gameplay is pretty good and the parkour is pretty smooth, it may be no mirrors edge but it still boasts a lot of similar parkour. The melee combat is where the game shines with upgradable melee weapons that degrade over time, you can get perks to help make your weapons last longer but even at higher level youre still watching your melee weapon usage. The gun play is pretty good and im disappointed the guns dont wear down Far Cry 2 style but it balances out since melee weapons do more damage.The night time can be absolutely terrifying right up until higher levels, my first experience with night time was an adrenaline rush even in coop.The game will feel very familiar to those who've played Mirror's Edge and as a fan of Mirror's Edge, i can easily recommend this game for those looking for a new parkour game. Controls:  I'm not giving a score on this since I played it on both PC and Xbox 360 controller controls, so I'll write a mini review for it.The PC controls are pretty good but the mouse sensivity takes time to get used to (i really cant explain this problem) but it still feels very natural compared to most multiplatform titles. The Xbox 360 controlers however, are clunky and take a lot of time getting used to but still very playable ones used to it. Coop (8/10):  The coop is pretty damn good, its peer2peer and you join the client's game and you do their quests and story. Its drop in and drop out so you can leave and join anytime. The \"Be The Zombie\" gamemode is similar to the Dark Souls invasion and can make even the most battle hardened survivors work together. I really recommend this game if youre tired of all the current coop zombie games like CoD zombies, Left 4 Dead 2 and Killing Floor. Technical Info:  This game isnt quite optimized for PC and my first 5-10 hours involved me having a problem where the cutscenes would run at 15fps despite pulling 40fps in triple screen resolution (5760x1080) and apparently its coming problem but looks like its fixed now (it happened to different people no matter the resolution or setup).The game has flawless triple monitor support and the side screens darken when entering cinematics. I recommend keeping \"View Distance\" at the default or turning it down because it has a major performance impact for little effect (it just makes foliage more visible in the distance, thats it).Apparently this game has very very basic Oculus Rift support but I havent tested it until they get something worth testing.\n",
      "\n"
     ]
    },
    {
     "name": "stderr",
     "output_type": "stream",
     "text": [
      "C:\\Users\\hugos\\Anaconda3\\lib\\site-packages\\sklearn\\feature_extraction\\text.py:300: UserWarning: Your stop_words may be inconsistent with your preprocessing. Tokenizing the stop words generated tokens [\"'d\", \"'ll\", \"'re\", \"'s\", \"'ve\", 'could', 'might', 'must', \"n't\", 'need', 'sha', 'wo', 'would'] not in stop_words.\n",
      "  'stop_words.' % sorted(inconsistent))\n"
     ]
    },
    {
     "name": "stdout",
     "output_type": "stream",
     "text": [
      "Resumo  com algoritmo distancia centroids:\n",
      "\n",
      "This game is surprisingly good, I recommend it if youre looking for a new coop game to play with friends or just a nice open world game mixed with parkour.Story (6/10):  While nothing special it does have its set of memorable characters.The Xbox 360 controlers however, are clunky and take a lot of time getting used to but still very playable ones used to it.\n",
      "\n",
      "\n"
     ]
    },
    {
     "name": "stderr",
     "output_type": "stream",
     "text": [
      "C:\\Users\\hugos\\Anaconda3\\lib\\site-packages\\sklearn\\feature_extraction\\text.py:300: UserWarning: Your stop_words may be inconsistent with your preprocessing. Tokenizing the stop words generated tokens [\"'d\", \"'ll\", \"'re\", \"'s\", \"'ve\", 'could', 'might', 'must', \"n't\", 'need', 'sha', 'wo', 'would'] not in stop_words.\n",
      "  'stop_words.' % sorted(inconsistent))\n"
     ]
    },
    {
     "name": "stdout",
     "output_type": "stream",
     "text": [
      "Resumo  com text rank:\n",
      "\n",
      "Gameplay (8/10):  The gameplay is pretty good and the parkour is pretty smooth, it may be no mirrors edge but it still boasts a lot of similar parkour.The gun play is pretty good and im disappointed the guns dont wear down Far Cry 2 style but it balances out since melee weapons do more damage.The night time can be absolutely terrifying right up until higher levels, my first experience with night time was an adrenaline rush even in coop.The game will feel very familiar to those who've played Mirror's Edge and as a fan of Mirror's Edge, i can easily recommend this game for those looking for a new parkour game.Coop (8/10):  The coop is pretty damn good, its peer2peer and you join the client's game and you do their quests and story.\n",
      "\n",
      "\n",
      "\n",
      "Document: 17\n",
      "\n",
      "Texto: \n",
      "\n",
      "TL; DR version: for $9.99, this dlc is short and does not add any real content to the game that you can not go without.Now for the long version. I got this dlc as a part of my season pass, so I didn't pay the $9.99 price tag. But if you didn't buy a season pass and are considering buying this dlc separately, I recommend you do not.There are really only two new characters with a decent amount of interaction introduced in this dlc. One I felt was developed very well, and will keep as a companion for a while. The other, was very shallow. There was barely any character development to make me feel anything for them. They could have been a no name raider and plucked at the same heartstrings during the big choice of this dlc.The robot customisation added by this dlc is quite neat. All of it balances nicely with no obvious power play options. And it's fun to have your own custom companion. But this, ultimately, is no different to any other companion. Sure, I can give them sword arms, but I could just give another companion a sword for the same effect. The interface is also slightly confusing; it is difficult to follow what change in damage/resistance a mod will cause without doing the manual check yourself. I was beginning to trust those little +++.Coming into this dlc with a lv 50 character (playing on survival) I really only felt challenged on combat at one stage in this dlc. That's not isolated to this dlc though, I feel fallout 4 has difficulty issues regardless. But this dlc does nothing to rectify this.Oh and if you're not a junk hoarder then I wish you the best of luck in your future endeavors amassing your new hoard if you want to build any decent robot mods.There are a few new weapons added in this dlc as well, with the majority being mele, then energy. These are not something a level 50+ is going to start using though. Even with full modification, they fail to pack any considerate punch.There are also some unique power armor mods added in this dlc, but they are non transferable and will only benefit energy weapons users.In the end this dlc adds some cool features to your settlement and a cool new companion, but other than that there is nothing really new that is worth the $9.99 pricetag if you're considering buying this dlc outright.\n",
      "\n"
     ]
    },
    {
     "name": "stderr",
     "output_type": "stream",
     "text": [
      "C:\\Users\\hugos\\Anaconda3\\lib\\site-packages\\sklearn\\feature_extraction\\text.py:300: UserWarning: Your stop_words may be inconsistent with your preprocessing. Tokenizing the stop words generated tokens [\"'d\", \"'ll\", \"'re\", \"'s\", \"'ve\", 'could', 'might', 'must', \"n't\", 'need', 'sha', 'wo', 'would'] not in stop_words.\n",
      "  'stop_words.' % sorted(inconsistent))\n"
     ]
    },
    {
     "name": "stdout",
     "output_type": "stream",
     "text": [
      "Resumo  com algoritmo distancia centroids:\n",
      "\n",
      "All of it balances nicely with no obvious power play options.But this, ultimately, is no different to any other companion.But if you didn't buy a season pass and are considering buying this dlc separately, I recommend you do not.There are really only two new characters with a decent amount of interaction introduced in this dlc.\n",
      "\n",
      "\n"
     ]
    },
    {
     "name": "stderr",
     "output_type": "stream",
     "text": [
      "C:\\Users\\hugos\\Anaconda3\\lib\\site-packages\\sklearn\\feature_extraction\\text.py:300: UserWarning: Your stop_words may be inconsistent with your preprocessing. Tokenizing the stop words generated tokens [\"'d\", \"'ll\", \"'re\", \"'s\", \"'ve\", 'could', 'might', 'must', \"n't\", 'need', 'sha', 'wo', 'would'] not in stop_words.\n",
      "  'stop_words.' % sorted(inconsistent))\n"
     ]
    },
    {
     "name": "stdout",
     "output_type": "stream",
     "text": [
      "Resumo  com text rank:\n",
      "\n",
      "One I felt was developed very well, and will keep as a companion for a while.But this, ultimately, is no different to any other companion.Even with full modification, they fail to pack any considerate punch.There are also some unique power armor mods added in this dlc, but they are non transferable and will only benefit energy weapons users.In the end this dlc adds some cool features to your settlement and a cool new companion, but other than that there is nothing really new that is worth the $9.99 pricetag if you're considering buying this dlc outright.\n",
      "\n",
      "\n",
      "\n",
      "Document: 18\n",
      "\n",
      "Texto: \n",
      "\n",
      "The McDonald’s we’ve known for more than half a century is changing. Whether due to shifting market trends or a mid-life identity crisis, the Golden Arches has decided to completely reinvent itself as an upmarket restaurant chain. It’s a bold new direction for the company with a focus on premium ingredients, dine-in perks and customer creation via “Build-A-Burger” touch screens. Yesterday, we tested the fancy new service at its maiden store in Castle Hill, NSW. The results exceeded our wildest expectations.The McDonald’s we’ve known for more than half a century is changing. Whether due to shifting market trends or a mid-life identity crisis, the Golden Arches has decided to completely reinvent itself as an upmarket restaurant chain. It’s a bold new direction for the company with a focus on premium ingredients, dine-in perks and customer creation via “Build-A-Burger” touch screens. Yesterday, we tested the fancy new service at its maiden store in Castle Hill, NSW. The results exceeded our wildest expectations.Study the above photo. It doesn’t look like your typical Macca’s fare, does it? Remove the tell-tale cup and it could almost be a burger from a glitzy steak house or high-end pub. What you’re looking at is a bespoke burger packed with an Angus beef patty, lettuce, tomato, egg, smoked Applewood bacon, red onion rings, jalapenos, grilled mushrooms, chilli jam and no less than four types of cheeses. (Yep, I went all in and I don’t regret a thing — but more on that later.)This is what McDonald’s wants to become in Australia and it’s pulling out all the stops to make it happen. While the service is currently only available in a single Castle Hill outlet, the company is embarking on a nation-wide roll out over the next two years. Consider it the final step in McDonald’s hipster gentrification (hipsterfication?) — a process that arguably started with the Angus and M Selection range.So how does it work? If you just want to grab a quick ‘n’ dirty Big Mac, McDonald’s will still cater to you via the usual ordering process. However, there’s also a touch screen kiosk where customers can get a whole lot fancier. There are several ready-built deluxe burgers to choose from, although the emphasis is firmly on customer creation.There are more than 30 ingredients to choose from, including two types of buns, four kinds of cheese, two types of bacon and a range of specialty toppings including grilled pineapple, guacamole, beetroot, grilled mushrooms and a range of gourmet sauces. Handily, the display automatically tallies the kilojoule count of your order after you’ve added all the toppings.The touch screen interface has been built to impress: it’s large, responsive and easy to navigate with visual representations of all the available ingredients. With the possible exception of geriatric Luddites, the UI shouldn’t give customers any trouble. (Trained staff are hovering nearby just in case you have any questions.) You can also order standard menu items from the touch screen, which means you don’t have to split from your lunch partner if they just want a Quarter Pounder.Once you’ve made your selection you can pay for it instantly via an inbuilt credit card terminal. You’re then presented with a receipt and invited to sit down as your meal is freshly prepared. It will then be served to you on a dinky wooden platter. (Plastic trays are for bogans, dontcha know.)The new menu doesn’t look like fast food and it doesn’t act like it either: waiting times are significantly longer than McDonald’s customers are accustomed to. It took close to 15 minutes for my order to arrive by which point I was completely famished. Mind you, this is fairly typical for a non-fast-food burger so I won’t begrudge them too much.Just be aware that you might be in for an even lengthier wait during peak meal times. The manager I spoke to admitted that things can slow to a crawl when lots of bespoke orders come in at once. If your time is limited, our advice is to show up at least an hour before the lunch/dinner crowd.When my burger finally arrived, I was immediately impressed with the size and construction. If the ready-made options are anything like this, we may have the first perfect Takeaway Truth score on our hands. But looks can be deceiving. For as long as anyone can remember, McDonald’s has been synonymous with cheap, bland food. Would this be more of the same with a higher price tag?The answer is an emphatic no. Without a shadow of a doubt, this is the best McDonald’s burger I’ve tasted by a significant margin. It may even be my favourite fast food burger, period. The combination of familiar Macca’s meat and gourmet toppings went together wonderfully. My only reservation is that it was a bit hard to eat due to its massive size. Annoyingly, McDonald’s doesn’t include plastic cutlery with orders unless you ask.Apart from that tiny caveat, I really don’t have anything mean to say about this burger or the upscale service that spawned it. Would I pay $30 for a version with the lot? Of course not. But for $15 or so, this is a perfectly acceptable meal — attractive, delicious and so very filling.In conclusion, McDonald’s has clearly realised it needs to adapt with the times and it is moving confidently in the right direction. Fast food just got a serious upgrade. Colour us excited.\n",
      "\n"
     ]
    },
    {
     "name": "stderr",
     "output_type": "stream",
     "text": [
      "C:\\Users\\hugos\\Anaconda3\\lib\\site-packages\\sklearn\\feature_extraction\\text.py:300: UserWarning: Your stop_words may be inconsistent with your preprocessing. Tokenizing the stop words generated tokens [\"'d\", \"'ll\", \"'re\", \"'s\", \"'ve\", 'could', 'might', 'must', \"n't\", 'need', 'sha', 'wo', 'would'] not in stop_words.\n",
      "  'stop_words.' % sorted(inconsistent))\n"
     ]
    },
    {
     "name": "stdout",
     "output_type": "stream",
     "text": [
      "Resumo  com algoritmo distancia centroids:\n",
      "\n",
      "The results exceeded our wildest expectations.Study the above photo.The McDonald’s we’ve known for more than half a century is changing.The results exceeded our wildest expectations.Study the above photo.\n",
      "\n",
      "\n"
     ]
    },
    {
     "name": "stderr",
     "output_type": "stream",
     "text": [
      "C:\\Users\\hugos\\Anaconda3\\lib\\site-packages\\sklearn\\feature_extraction\\text.py:300: UserWarning: Your stop_words may be inconsistent with your preprocessing. Tokenizing the stop words generated tokens [\"'d\", \"'ll\", \"'re\", \"'s\", \"'ve\", 'could', 'might', 'must', \"n't\", 'need', 'sha', 'wo', 'would'] not in stop_words.\n",
      "  'stop_words.' % sorted(inconsistent))\n"
     ]
    },
    {
     "name": "stdout",
     "output_type": "stream",
     "text": [
      "Resumo  com text rank:\n",
      "\n",
      "For as long as anyone can remember, McDonald’s has been synonymous with cheap, bland food.Without a shadow of a doubt, this is the best McDonald’s burger I’ve tasted by a significant margin.Annoyingly, McDonald’s doesn’t include plastic cutlery with orders unless you ask.Apart from that tiny caveat, I really don’t have anything mean to say about this burger or the upscale service that spawned it.\n",
      "\n",
      "\n",
      "\n",
      "Document: 19\n",
      "\n",
      "Texto: \n",
      "\n",
      "You are Wilson Percival Higgsbury.(or whoever you chose) Stranded on an island, you have to hunt for food and make a fire before night comes. Unlock characters, fight spiders, get killed by Beefalo in heat!Kill a giant deer cyclops or be killed by that giant deer cyclops!Get killed by a bee! Non-poisonous lethal spiders! Man-spiders! Actress vikings! Strongmen with a fearof the dark! Giant spider queen egg-nest-thingies! Never-spoiling Twinkies! This game is nothing like minecraft! Or terraria! Great game. I'd give it a 9.9/10, mainly because i can't survive with mods. But hey! 10/10 anyways! But yeah, this game is as worth your money as most people perceive Ocarina of Time. But If you DON'T like OOT, then it's still VERY worth ya money! Bored with the game?REIGN OF GIANTS!BADGER BEARS! DRAGON FLIES! GOOSES!.... mooses? GMOOSES!MODS!YEAH!10.5/10.\n",
      "\n"
     ]
    },
    {
     "name": "stderr",
     "output_type": "stream",
     "text": [
      "C:\\Users\\hugos\\Anaconda3\\lib\\site-packages\\sklearn\\feature_extraction\\text.py:300: UserWarning: Your stop_words may be inconsistent with your preprocessing. Tokenizing the stop words generated tokens [\"'d\", \"'ll\", \"'re\", \"'s\", \"'ve\", 'could', 'might', 'must', \"n't\", 'need', 'sha', 'wo', 'would'] not in stop_words.\n",
      "  'stop_words.' % sorted(inconsistent))\n"
     ]
    },
    {
     "name": "stdout",
     "output_type": "stream",
     "text": [
      "Resumo  com algoritmo distancia centroids:\n",
      "\n",
      "Man-spiders!You are Wilson Percival Higgsbury.Bored with the game?REIGN OF GIANTS!BADGER BEARS!\n",
      "\n",
      "\n"
     ]
    },
    {
     "name": "stderr",
     "output_type": "stream",
     "text": [
      "C:\\Users\\hugos\\Anaconda3\\lib\\site-packages\\sklearn\\feature_extraction\\text.py:300: UserWarning: Your stop_words may be inconsistent with your preprocessing. Tokenizing the stop words generated tokens [\"'d\", \"'ll\", \"'re\", \"'s\", \"'ve\", 'could', 'might', 'must', \"n't\", 'need', 'sha', 'wo', 'would'] not in stop_words.\n",
      "  'stop_words.' % sorted(inconsistent))\n"
     ]
    },
    {
     "name": "stdout",
     "output_type": "stream",
     "text": [
      "Resumo  com text rank:\n",
      "\n",
      "Strongmen with a fearof the dark!Never-spoiling Twinkies!Or terraria!\n",
      "\n",
      "\n",
      "\n",
      "Document: 20\n",
      "\n",
      "Texto: \n",
      "\n",
      "STOP! Before you go anywhere, read this. This game is worth playing. Why? Well, imagine this. Your name is Lee Everett. A thirty-something year old man on his way to prison for an undisclosed crime. The game begins with you getting driven out of the city of Atlanta by an elderly policeman. This is a tutorial of sorts as you learn how to look around and click on objects of interest. You also learn about the dialogue system in which you get given 4 options of words/sentences to reply with. Choose as you will, the copper looks away at a bad moment and crashes into a pedestrian, spins out of control and tumbles down a steep ditch on the side of the road. Dazed, confused and hurt you pass out for a few minutes to the sound of screaming. This is where the game really begins. I won't spoil much but this is a really enjoyable game. 9.5/10 is a score that this game earns exceptionally.\n",
      "\n"
     ]
    },
    {
     "name": "stderr",
     "output_type": "stream",
     "text": [
      "C:\\Users\\hugos\\Anaconda3\\lib\\site-packages\\sklearn\\feature_extraction\\text.py:300: UserWarning: Your stop_words may be inconsistent with your preprocessing. Tokenizing the stop words generated tokens [\"'d\", \"'ll\", \"'re\", \"'s\", \"'ve\", 'could', 'might', 'must', \"n't\", 'need', 'sha', 'wo', 'would'] not in stop_words.\n",
      "  'stop_words.' % sorted(inconsistent))\n"
     ]
    },
    {
     "name": "stdout",
     "output_type": "stream",
     "text": [
      "Resumo  com algoritmo distancia centroids:\n",
      "\n",
      "Well, imagine this.You also learn about the dialogue system in which you get given 4 options of words/sentences to reply with.This is where the game really begins.\n",
      "\n",
      "\n"
     ]
    },
    {
     "name": "stderr",
     "output_type": "stream",
     "text": [
      "C:\\Users\\hugos\\Anaconda3\\lib\\site-packages\\sklearn\\feature_extraction\\text.py:300: UserWarning: Your stop_words may be inconsistent with your preprocessing. Tokenizing the stop words generated tokens [\"'d\", \"'ll\", \"'re\", \"'s\", \"'ve\", 'could', 'might', 'must', \"n't\", 'need', 'sha', 'wo', 'would'] not in stop_words.\n",
      "  'stop_words.' % sorted(inconsistent))\n"
     ]
    },
    {
     "name": "stdout",
     "output_type": "stream",
     "text": [
      "Resumo  com text rank:\n",
      "\n",
      "This game is worth playing.Well, imagine this.This is where the game really begins.\n",
      "\n",
      "\n",
      "\n"
     ]
    }
   ],
   "source": [
    "counter = 1\n",
    "samples_to_test = 20\n",
    "for document in filtred_documents[:samples_to_test]:\n",
    "    sents = sent_tokenize(document)\n",
    "    print(\"Document: {0}\\n\".format(counter))\n",
    "    print(\"Texto: \\n\")\n",
    "    print(document + \"\\n\")\n",
    "    try:\n",
    "        resumo = summarize_by_cluster_distance(sents)\n",
    "        print(\"Resumo  com algoritmo distancia centroids:\\n\")\n",
    "        print(resumo)\n",
    "        print(\"\\n\")\n",
    "        resumo = summarize_with_text_rank(sents)\n",
    "        print(\"Resumo  com text rank:\\n\")\n",
    "        print(resumo)\n",
    "        print(\"\\n\\n\")\n",
    "    except:\n",
    "        print(\"Erro: \", sents)\n",
    "    counter += 1"
   ]
  },
  {
   "cell_type": "markdown",
   "metadata": {},
   "source": [
    "## Extração de palavras chaves"
   ]
  },
  {
   "cell_type": "code",
   "execution_count": 10,
   "metadata": {},
   "outputs": [
    {
     "name": "stdout",
     "output_type": "stream",
     "text": [
      "Document: 1\n",
      "\n",
      "Texto: \n",
      "\n",
      "Is your computer BAD? Do you want the best games but your computer can't handle it? Well this games for you! Its basically DayZ and Minecraft squished together! So if your computer can't hold DayZ, Come on down and try this! Loot towns! Build bases! Fight the Zombies that are everywhere! Yes everywhere even above you... Wait no that was a lie. * Continues *. This is endless fun! Play with your friends if your to scared to fight the little zombies. Except for the one behind you! Wait that was a lie again.. Well then, what are you waiting for? Download this game right now and then play it then get Gold Upgrade then have endless fun and oh by the way theres a zombie behind you to your left.. Wait that was a lie. Or was it...Lets end this. This is a brilliant game and you should get it if you love DayZ but can't handle it on your CP. Goodbye!\n",
      "\n"
     ]
    },
    {
     "name": "stderr",
     "output_type": "stream",
     "text": [
      "C:\\Users\\hugos\\Anaconda3\\lib\\site-packages\\ipykernel_launcher.py:14: DeprecationWarning: Call to deprecated `similarity` (Method will be removed in 4.0.0, use self.wv.similarity() instead).\n",
      "  \n"
     ]
    },
    {
     "name": "stdout",
     "output_type": "stream",
     "text": [
      "Palavras chaves de um texto:\n",
      "\n",
      "Não foi possível rankear as palavras, problemas de convergência\n",
      "\n",
      "\n",
      "\n",
      "Document: 2\n",
      "\n",
      "Texto: \n",
      "\n",
      "To commemorate tha beta of Steam Reviews, it only make sense dat I finally write a recommendation fo' a game dat has been close ta mah ♥♥♥ since tha dizzle I was first introduced ta it: Terraria.Terraria has proven ta be a ♥♥♥♥♥♥♥♥ of funk ta play, n' has been one of mah freshest vizzle game time sinks up in recent mutha♥♥♥♥in years cuz of dat ♥♥♥♥. Between lenient system requirements, a solid (albeit imbalanced, at times) combat system, a funky-♥♥♥ broad permittizzle fo' exploration n' a wide selection of buildin decor, itz tha type of game dat strikes me as havin suttin' fo' everyone. Which is good, when you consider dat it also has multiplayer n' ♥♥♥♥. Even mo' betta when you git ta tha late game, which has a wide array of weapons, armors n' tools ta allow fo' a wide variety of specializations.Buildin n' exploration is phat points up in favor of tha game yo, but tha gameplay mechanics is suttin' I'd like ta single up fo' praise. For a 2D game, its combat system has a ♥♥♥♥♥♥♥♥ of spectacle, n' like thatz part of why I find it so charmin yo. Hurtin enemies--even dem playas whoz ♥♥♥ is vastly inferior ta you--feels good. Y'all KNOW dat ♥♥♥♥, mutha♥♥♥♥a! I be fly as a gangbangin' falcon, soarin all up in tha sky dawwwwg! It aint nuthin but satisfyin ta hear tha hit sound on tha mo' squishy enemies, n' peep dem explode tha ♥♥♥♥ into fine lil chunks when they take a thugged-out dirt nap. Ground movement could be mo' betta yo, but certain late game ♥♥♥♥ hit you wit tha mobilitizzle ta dash n' fly, which straight-up expand how tha ♥♥♥♥ you can explore n' fight fo' realz. And wit a wide selection of weapons, every last mutha♥♥♥♥in playa is bound ta find a rosta of tools, spells n' fish-related artillery dat fits they playstyle.Da game aint without flaws, mind yo thugged-out ♥♥♥. With tha gamez update history, tha launch endgame now vastly differs from dat of tha current one. This has hustled ta some balizzle n' progression issues, da most thugged-out glarin of which bein how tha ♥♥♥♥ sluggish tha early game feels. Well shiiiit, it worries me dat tha start of tha game might dissuade some playas from playing, when they might ludd what tha ♥♥♥♥ tha late game has ta offer n' ♥♥♥♥. Da game also has a wack g-thang of recyclin mob AI wit reskins, though dis be averted by adjustin certain parametas n' givin dem unique abilitizzles ta hide tha fact. Even though I have mo' ta say bout tha shortcomings, there be a just too much phat up in tha game ta stay mad bout what tha ♥♥♥♥ effectively boils down ta nitpicking.Plus, it has hats fo' realz. Any game dat has a selection of basebizzle caps gets brownie points.Watch some trailers. Read some other props. If dis be lookin like suttin' you'd be interested in, then take it from me: give Terraria a cold-♥♥♥ lil chance. Da game occasionally goes on sale fo' 75% off, so pick up a gangbangin' four pack fo' yo ♥♥♥ n' three playas. If I be wrong, then I cost you a meal at Subway--not subliminal advertising--and I be sorry as a mutha♥♥♥♥a bout dat ♥♥♥♥♥♥♥t. But if I be right, then it'll be well worth tha price. We sposed ta ♥♥♥♥in pay $60 these minutes fo' a gangbangin' fulfillin gamin experience. This is one that'll run you $10, at most. ORIGINAL REVIEW BY       [R] SparkeeLecaro        http://steamcommunity.com//id/sparkeelecaro/\n",
      "\n",
      "Palavras chaves de um texto:\n",
      "\n",
      "Não foi possível rankear as palavras, problemas de convergência\n",
      "\n",
      "\n",
      "\n"
     ]
    }
   ],
   "source": [
    "counter = 1\n",
    "samples_to_test = 20\n",
    "for document in filtred_documents[4:6]:\n",
    "    print(\"Document: {0}\\n\".format(counter))\n",
    "    print(\"Texto: \\n\")\n",
    "    print(document + \"\\n\")\n",
    "    try:\n",
    "        keywords = Get_Keywords(document)\n",
    "        print(\"Palavras chaves de um texto:\\n\")\n",
    "        print(keywords)\n",
    "        print(\"\\n\\n\")\n",
    "    except:\n",
    "        print(\"Erro: \", sents)\n",
    "    counter += 1"
   ]
  },
  {
   "cell_type": "code",
   "execution_count": null,
   "metadata": {},
   "outputs": [],
   "source": []
  }
 ],
 "metadata": {
  "kernelspec": {
   "display_name": "Python 3",
   "language": "python",
   "name": "python3"
  },
  "language_info": {
   "codemirror_mode": {
    "name": "ipython",
    "version": 3
   },
   "file_extension": ".py",
   "mimetype": "text/x-python",
   "name": "python",
   "nbconvert_exporter": "python",
   "pygments_lexer": "ipython3",
   "version": "3.7.4"
  }
 },
 "nbformat": 4,
 "nbformat_minor": 2
}
